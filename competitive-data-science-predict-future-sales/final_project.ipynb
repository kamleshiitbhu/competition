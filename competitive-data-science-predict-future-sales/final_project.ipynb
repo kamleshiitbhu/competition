{
 "cells": [
  {
   "cell_type": "code",
   "execution_count": 38,
   "metadata": {},
   "outputs": [],
   "source": [
    "import pandas as pd\n",
    "import os\n",
    "from tqdm import tqdm_notebook\n",
    "import numpy as np\n",
    "\n",
    "from itertools import product\n",
    "from sklearn.preprocessing import LabelEncoder\n",
    "\n",
    "from xgboost import XGBRegressor\n",
    "from xgboost import plot_importance\n",
    "\n",
    "import time"
   ]
  },
  {
   "cell_type": "code",
   "execution_count": 25,
   "metadata": {},
   "outputs": [
    {
     "data": {
      "text/plain": [
       "['test.csv.gz',\n",
       " 'sample_submission.csv.gz',\n",
       " 'shops.csv',\n",
       " 'sales_train.csv.gz',\n",
       " 'item_categories.csv',\n",
       " 'items.csv']"
      ]
     },
     "execution_count": 25,
     "metadata": {},
     "output_type": "execute_result"
    }
   ],
   "source": [
    "PATH = './data'\n",
    "os.listdir(PATH)"
   ]
  },
  {
   "cell_type": "code",
   "execution_count": 26,
   "metadata": {},
   "outputs": [],
   "source": [
    "test     = pd.read_csv(os.path.join(PATH,'test.csv.gz'))\n",
    "shops    = pd.read_csv(os.path.join(PATH,'shops.csv'))\n",
    "sales    = pd.read_csv(os.path.join(PATH,'sales_train.csv.gz'))\n",
    "item_cat = pd.read_csv(os.path.join(PATH,'item_categories.csv'))\n",
    "item     = pd.read_csv(os.path.join(PATH,'items.csv'))"
   ]
  },
  {
   "cell_type": "markdown",
   "metadata": {},
   "source": [
    "few shops are duplicated as 0 and 57 , 1 and 58, 10 and 11"
   ]
  },
  {
   "cell_type": "code",
   "execution_count": 27,
   "metadata": {},
   "outputs": [],
   "source": [
    "sales.loc[sales.shop_id == 0,'shop_id'] = 57\n",
    "sales.loc[sales.shop_id == 1,'shop_id'] = 58\n",
    "sales.loc[sales.shop_id == 10,'shop_id'] = 11"
   ]
  },
  {
   "cell_type": "code",
   "execution_count": 28,
   "metadata": {},
   "outputs": [],
   "source": [
    "shops.loc[shops.shop_name == 'Сергиев Посад ТЦ \"7Я\"', 'shop_name'] = 'СергиевПосад ТЦ \"7Я\"'\n",
    "shops['city'] = shops['shop_name'].str.split(' ').map(lambda x: x[0])\n",
    "shops.loc[shops.city == '!Якутск', 'city'] = 'Якутск'\n",
    "shops['city_code'] = LabelEncoder().fit_transform(shops['city'])\n",
    "shops = shops[['shop_id','city_code']]\n",
    "\n",
    "item_cat['split'] = item_cat['item_category_name'].str.split('-')\n",
    "item_cat['type'] = item_cat['split'].map(lambda x: x[0])\n",
    "item_cat['type_code'] = LabelEncoder().fit_transform(item_cat['type'])\n",
    "\n",
    "item_cat['subtype'] = item_cat['split'].map(lambda x: x[1].strip() if len(x) > 1 else x[0].strip())\n",
    "item_cat['subtype_code'] = LabelEncoder().fit_transform(item_cat['subtype'])\n",
    "item_cat.drop(['item_category_name','split','type','subtype'],axis=1,inplace=True)\n",
    "\n",
    "item.drop(['item_name'], axis=1, inplace=True)"
   ]
  },
  {
   "cell_type": "code",
   "execution_count": 29,
   "metadata": {},
   "outputs": [],
   "source": [
    "index_col = ['shop_id','item_id','date_block_num']"
   ]
  },
  {
   "cell_type": "code",
   "execution_count": 30,
   "metadata": {},
   "outputs": [
    {
     "data": {
      "text/plain": [
       "5.397815704345703"
      ]
     },
     "execution_count": 30,
     "metadata": {},
     "output_type": "execute_result"
    }
   ],
   "source": [
    "ts = time.time()\n",
    "\n",
    "matrix = []\n",
    "for i in range(34):\n",
    "    train = sales[sales.date_block_num==i]\n",
    "    matrix.append(np.array(list(product(train.shop_id.unique(), train.item_id.unique(), [i])), dtype='int16'))\n",
    "    del train\n",
    "    \n",
    "matrix = pd.DataFrame(np.vstack(matrix), columns=index_col)\n",
    "matrix['date_block_num'] = matrix['date_block_num'].astype(np.int8)\n",
    "matrix['shop_id'] = matrix['shop_id'].astype(np.int8)\n",
    "matrix['item_id'] = matrix['item_id'].astype(np.int16)\n",
    "\n",
    "time.time() - ts"
   ]
  },
  {
   "cell_type": "code",
   "execution_count": 31,
   "metadata": {},
   "outputs": [
    {
     "data": {
      "text/plain": [
       "4.11910605430603"
      ]
     },
     "execution_count": 31,
     "metadata": {},
     "output_type": "execute_result"
    }
   ],
   "source": [
    "ts = time.time()\n",
    "\n",
    "group = sales.groupby(index_col).agg({'item_cnt_day':'sum'})\n",
    "group.columns = ['item_cnt_month']\n",
    "group.reset_index(inplace=True)\n",
    "\n",
    "matrix = pd.merge(matrix,group,on=index_col,how='left')\n",
    "matrix['item_cnt_month'] = matrix['item_cnt_month'].fillna(0).clip(0,20).astype(np.float16)\n",
    "\n",
    "time.time() - ts"
   ]
  },
  {
   "cell_type": "code",
   "execution_count": 32,
   "metadata": {},
   "outputs": [],
   "source": [
    "test['date_block_num'] = 34\n",
    "test['date_block_num'] = test['date_block_num'].astype(np.int8)\n",
    "test['shop_id'] = test['shop_id'].astype(np.int8)\n",
    "test['item_id'] = test['item_id'].astype(np.int16)\n",
    "test = test[index_col]"
   ]
  },
  {
   "cell_type": "code",
   "execution_count": 33,
   "metadata": {},
   "outputs": [
    {
     "data": {
      "text/plain": [
       "0.12503433227539062"
      ]
     },
     "execution_count": 33,
     "metadata": {},
     "output_type": "execute_result"
    }
   ],
   "source": [
    "ts = time.time()\n",
    "matrix = pd.concat([matrix, test], ignore_index=True, sort=False, keys=index_col)\n",
    "matrix.fillna(0, inplace=True) # 34 month\n",
    "time.time() - ts"
   ]
  },
  {
   "cell_type": "code",
   "execution_count": 34,
   "metadata": {},
   "outputs": [
    {
     "data": {
      "text/html": [
       "<div>\n",
       "<style scoped>\n",
       "    .dataframe tbody tr th:only-of-type {\n",
       "        vertical-align: middle;\n",
       "    }\n",
       "\n",
       "    .dataframe tbody tr th {\n",
       "        vertical-align: top;\n",
       "    }\n",
       "\n",
       "    .dataframe thead th {\n",
       "        text-align: right;\n",
       "    }\n",
       "</style>\n",
       "<table border=\"1\" class=\"dataframe\">\n",
       "  <thead>\n",
       "    <tr style=\"text-align: right;\">\n",
       "      <th></th>\n",
       "      <th>shop_id</th>\n",
       "      <th>item_id</th>\n",
       "      <th>date_block_num</th>\n",
       "      <th>item_cnt_month</th>\n",
       "    </tr>\n",
       "  </thead>\n",
       "  <tbody>\n",
       "    <tr>\n",
       "      <th>0</th>\n",
       "      <td>59</td>\n",
       "      <td>22154</td>\n",
       "      <td>0</td>\n",
       "      <td>1.0</td>\n",
       "    </tr>\n",
       "    <tr>\n",
       "      <th>1</th>\n",
       "      <td>59</td>\n",
       "      <td>2552</td>\n",
       "      <td>0</td>\n",
       "      <td>0.0</td>\n",
       "    </tr>\n",
       "    <tr>\n",
       "      <th>2</th>\n",
       "      <td>59</td>\n",
       "      <td>2554</td>\n",
       "      <td>0</td>\n",
       "      <td>0.0</td>\n",
       "    </tr>\n",
       "    <tr>\n",
       "      <th>3</th>\n",
       "      <td>59</td>\n",
       "      <td>2555</td>\n",
       "      <td>0</td>\n",
       "      <td>0.0</td>\n",
       "    </tr>\n",
       "    <tr>\n",
       "      <th>4</th>\n",
       "      <td>59</td>\n",
       "      <td>2564</td>\n",
       "      <td>0</td>\n",
       "      <td>0.0</td>\n",
       "    </tr>\n",
       "  </tbody>\n",
       "</table>\n",
       "</div>"
      ],
      "text/plain": [
       "   shop_id  item_id  date_block_num  item_cnt_month\n",
       "0       59    22154               0             1.0\n",
       "1       59     2552               0             0.0\n",
       "2       59     2554               0             0.0\n",
       "3       59     2555               0             0.0\n",
       "4       59     2564               0             0.0"
      ]
     },
     "execution_count": 34,
     "metadata": {},
     "output_type": "execute_result"
    }
   ],
   "source": [
    "matrix.head()"
   ]
  },
  {
   "cell_type": "markdown",
   "metadata": {},
   "source": [
    "## Shops/Item/Item_cat features"
   ]
  },
  {
   "cell_type": "code",
   "execution_count": 35,
   "metadata": {},
   "outputs": [
    {
     "data": {
      "text/plain": [
       "3.3496220111846924"
      ]
     },
     "execution_count": 35,
     "metadata": {},
     "output_type": "execute_result"
    }
   ],
   "source": [
    "ts = time.time()\n",
    "matrix = pd.merge(matrix,shops,on=['shop_id'],how='left')\n",
    "matrix = pd.merge(matrix,item,on=['item_id'],how='left')\n",
    "matrix = pd.merge(matrix,item_cat,on=['item_category_id'],how='left')\n",
    "matrix['city_code'] = matrix['city_code'].astype(np.int8)\n",
    "matrix['item_category_id'] = matrix['item_category_id'].astype(np.int8)\n",
    "matrix['type_code'] = matrix['type_code'].astype(np.int8)\n",
    "matrix['subtype_code'] = matrix['subtype_code'].astype(np.int8)\n",
    "time.time() - ts"
   ]
  },
  {
   "cell_type": "code",
   "execution_count": 37,
   "metadata": {},
   "outputs": [
    {
     "data": {
      "text/html": [
       "<div>\n",
       "<style scoped>\n",
       "    .dataframe tbody tr th:only-of-type {\n",
       "        vertical-align: middle;\n",
       "    }\n",
       "\n",
       "    .dataframe tbody tr th {\n",
       "        vertical-align: top;\n",
       "    }\n",
       "\n",
       "    .dataframe thead th {\n",
       "        text-align: right;\n",
       "    }\n",
       "</style>\n",
       "<table border=\"1\" class=\"dataframe\">\n",
       "  <thead>\n",
       "    <tr style=\"text-align: right;\">\n",
       "      <th></th>\n",
       "      <th>shop_id</th>\n",
       "      <th>item_id</th>\n",
       "      <th>date_block_num</th>\n",
       "      <th>item_cnt_month</th>\n",
       "      <th>city_code</th>\n",
       "      <th>item_category_id</th>\n",
       "      <th>type_code</th>\n",
       "      <th>subtype_code</th>\n",
       "    </tr>\n",
       "  </thead>\n",
       "  <tbody>\n",
       "    <tr>\n",
       "      <th>0</th>\n",
       "      <td>59</td>\n",
       "      <td>22154</td>\n",
       "      <td>0</td>\n",
       "      <td>1.0</td>\n",
       "      <td>30</td>\n",
       "      <td>37</td>\n",
       "      <td>11</td>\n",
       "      <td>1</td>\n",
       "    </tr>\n",
       "    <tr>\n",
       "      <th>1</th>\n",
       "      <td>59</td>\n",
       "      <td>2552</td>\n",
       "      <td>0</td>\n",
       "      <td>0.0</td>\n",
       "      <td>30</td>\n",
       "      <td>58</td>\n",
       "      <td>13</td>\n",
       "      <td>27</td>\n",
       "    </tr>\n",
       "    <tr>\n",
       "      <th>2</th>\n",
       "      <td>59</td>\n",
       "      <td>2554</td>\n",
       "      <td>0</td>\n",
       "      <td>0.0</td>\n",
       "      <td>30</td>\n",
       "      <td>58</td>\n",
       "      <td>13</td>\n",
       "      <td>27</td>\n",
       "    </tr>\n",
       "    <tr>\n",
       "      <th>3</th>\n",
       "      <td>59</td>\n",
       "      <td>2555</td>\n",
       "      <td>0</td>\n",
       "      <td>0.0</td>\n",
       "      <td>30</td>\n",
       "      <td>56</td>\n",
       "      <td>13</td>\n",
       "      <td>3</td>\n",
       "    </tr>\n",
       "    <tr>\n",
       "      <th>4</th>\n",
       "      <td>59</td>\n",
       "      <td>2564</td>\n",
       "      <td>0</td>\n",
       "      <td>0.0</td>\n",
       "      <td>30</td>\n",
       "      <td>59</td>\n",
       "      <td>13</td>\n",
       "      <td>40</td>\n",
       "    </tr>\n",
       "  </tbody>\n",
       "</table>\n",
       "</div>"
      ],
      "text/plain": [
       "   shop_id  item_id  date_block_num  item_cnt_month  city_code  \\\n",
       "0       59    22154               0             1.0         30   \n",
       "1       59     2552               0             0.0         30   \n",
       "2       59     2554               0             0.0         30   \n",
       "3       59     2555               0             0.0         30   \n",
       "4       59     2564               0             0.0         30   \n",
       "\n",
       "   item_category_id  type_code  subtype_code  \n",
       "0                37         11             1  \n",
       "1                58         13            27  \n",
       "2                58         13            27  \n",
       "3                56         13             3  \n",
       "4                59         13            40  "
      ]
     },
     "execution_count": 37,
     "metadata": {},
     "output_type": "execute_result"
    }
   ],
   "source": [
    "matrix.head()"
   ]
  },
  {
   "cell_type": "code",
   "execution_count": 44,
   "metadata": {},
   "outputs": [],
   "source": [
    "def lag_feature(df, lags, col):\n",
    "    tmp = df[['date_block_num','shop_id','item_id',col]]\n",
    "    for i in lags:\n",
    "        shifted = tmp.copy()\n",
    "        shifted.columns = ['date_block_num','shop_id','item_id', col+'_lag_'+str(i)]\n",
    "        shifted['date_block_num'] += i\n",
    "        df = pd.merge(df, shifted, on=['date_block_num','shop_id','item_id'], how='left')\n",
    "    return df"
   ]
  },
  {
   "cell_type": "code",
   "execution_count": 45,
   "metadata": {},
   "outputs": [],
   "source": [
    "lags = [6,12]\n",
    "matrix = lag_feature(matrix,lags,'item_cnt_month')"
   ]
  },
  {
   "cell_type": "code",
   "execution_count": null,
   "metadata": {},
   "outputs": [],
   "source": []
  },
  {
   "cell_type": "code",
   "execution_count": null,
   "metadata": {},
   "outputs": [],
   "source": []
  },
  {
   "cell_type": "code",
   "execution_count": null,
   "metadata": {},
   "outputs": [],
   "source": []
  },
  {
   "cell_type": "code",
   "execution_count": 52,
   "metadata": {},
   "outputs": [],
   "source": [
    "matrix = matrix[matrix.date_block_num > 12]\n",
    "data = matrix.copy()\n",
    "\n",
    "X_train = data[data.date_block_num < 33].drop(['item_cnt_month'], axis=1)\n",
    "Y_train = data[data.date_block_num < 33]['item_cnt_month']\n",
    "X_valid = data[data.date_block_num == 33].drop(['item_cnt_month'], axis=1)\n",
    "Y_valid = data[data.date_block_num == 33]['item_cnt_month']\n",
    "X_test = data[data.date_block_num == 34].drop(['item_cnt_month'], axis=1)"
   ]
  },
  {
   "cell_type": "code",
   "execution_count": 53,
   "metadata": {},
   "outputs": [
    {
     "name": "stderr",
     "output_type": "stream",
     "text": [
      "/Users/kamlesh/anaconda3/envs/ironman/lib/python3.6/site-packages/xgboost/core.py:587: FutureWarning: Series.base is deprecated and will be removed in a future version\n",
      "  if getattr(data, 'base', None) is not None and \\\n",
      "/Users/kamlesh/anaconda3/envs/ironman/lib/python3.6/site-packages/xgboost/core.py:588: FutureWarning: Series.base is deprecated and will be removed in a future version\n",
      "  data.base is not None and isinstance(data, np.ndarray) \\\n"
     ]
    },
    {
     "name": "stdout",
     "output_type": "stream",
     "text": [
      "[13:28:30] WARNING: src/objective/regression_obj.cu:152: reg:linear is now deprecated in favor of reg:squarederror.\n",
      "[13:28:30] WARNING: src/learner.cc:686: Tree method is automatically selected to be 'approx' for faster speed. To use old behavior (exact greedy algorithm on single machine), set tree_method to 'exact'.\n",
      "[0]\tvalidation_0-rmse:1.1536\tvalidation_1-rmse:1.13759\n",
      "Multiple eval metrics have been passed: 'validation_1-rmse' will be used for early stopping.\n",
      "\n",
      "Will train until validation_1-rmse hasn't improved in 10 rounds.\n",
      "[1]\tvalidation_0-rmse:1.13659\tvalidation_1-rmse:1.11883\n",
      "[2]\tvalidation_0-rmse:1.12337\tvalidation_1-rmse:1.10268\n",
      "[3]\tvalidation_0-rmse:1.11125\tvalidation_1-rmse:1.08866\n",
      "[4]\tvalidation_0-rmse:1.09619\tvalidation_1-rmse:1.07667\n",
      "[5]\tvalidation_0-rmse:1.08575\tvalidation_1-rmse:1.06624\n",
      "[6]\tvalidation_0-rmse:1.07598\tvalidation_1-rmse:1.05767\n",
      "[7]\tvalidation_0-rmse:1.06901\tvalidation_1-rmse:1.05001\n",
      "[8]\tvalidation_0-rmse:1.06091\tvalidation_1-rmse:1.04464\n",
      "[9]\tvalidation_0-rmse:1.05507\tvalidation_1-rmse:1.03921\n",
      "[10]\tvalidation_0-rmse:1.051\tvalidation_1-rmse:1.03435\n",
      "[11]\tvalidation_0-rmse:1.04731\tvalidation_1-rmse:1.03077\n",
      "[12]\tvalidation_0-rmse:1.04388\tvalidation_1-rmse:1.02815\n",
      "[13]\tvalidation_0-rmse:1.04061\tvalidation_1-rmse:1.02511\n",
      "[14]\tvalidation_0-rmse:1.03779\tvalidation_1-rmse:1.02265\n",
      "[15]\tvalidation_0-rmse:1.03505\tvalidation_1-rmse:1.02101\n",
      "[16]\tvalidation_0-rmse:1.03269\tvalidation_1-rmse:1.01894\n",
      "[17]\tvalidation_0-rmse:1.0301\tvalidation_1-rmse:1.01619\n",
      "[18]\tvalidation_0-rmse:1.02761\tvalidation_1-rmse:1.0144\n",
      "[19]\tvalidation_0-rmse:1.02597\tvalidation_1-rmse:1.01282\n",
      "[20]\tvalidation_0-rmse:1.0247\tvalidation_1-rmse:1.01142\n",
      "[21]\tvalidation_0-rmse:1.02379\tvalidation_1-rmse:1.01021\n",
      "[22]\tvalidation_0-rmse:1.02239\tvalidation_1-rmse:1.00899\n",
      "[23]\tvalidation_0-rmse:1.02117\tvalidation_1-rmse:1.00794\n",
      "[24]\tvalidation_0-rmse:1.01968\tvalidation_1-rmse:1.00609\n",
      "[25]\tvalidation_0-rmse:1.01842\tvalidation_1-rmse:1.00501\n",
      "[26]\tvalidation_0-rmse:1.01693\tvalidation_1-rmse:1.00362\n",
      "[27]\tvalidation_0-rmse:1.01574\tvalidation_1-rmse:1.00266\n",
      "[28]\tvalidation_0-rmse:1.01489\tvalidation_1-rmse:1.00191\n",
      "[29]\tvalidation_0-rmse:1.01418\tvalidation_1-rmse:1.00123\n",
      "[30]\tvalidation_0-rmse:1.01356\tvalidation_1-rmse:1.00073\n",
      "[31]\tvalidation_0-rmse:1.01235\tvalidation_1-rmse:1.00008\n",
      "[32]\tvalidation_0-rmse:1.01177\tvalidation_1-rmse:0.999929\n",
      "[33]\tvalidation_0-rmse:1.01096\tvalidation_1-rmse:0.999298\n",
      "[34]\tvalidation_0-rmse:1.00978\tvalidation_1-rmse:0.998221\n",
      "[35]\tvalidation_0-rmse:1.0089\tvalidation_1-rmse:0.997633\n",
      "[36]\tvalidation_0-rmse:1.00822\tvalidation_1-rmse:0.997213\n",
      "[37]\tvalidation_0-rmse:1.00752\tvalidation_1-rmse:0.996734\n",
      "[38]\tvalidation_0-rmse:1.00685\tvalidation_1-rmse:0.996581\n",
      "[39]\tvalidation_0-rmse:1.00628\tvalidation_1-rmse:0.99657\n",
      "[40]\tvalidation_0-rmse:1.00546\tvalidation_1-rmse:0.994993\n",
      "[41]\tvalidation_0-rmse:1.00512\tvalidation_1-rmse:0.994714\n",
      "[42]\tvalidation_0-rmse:1.0046\tvalidation_1-rmse:0.994257\n",
      "[43]\tvalidation_0-rmse:1.00429\tvalidation_1-rmse:0.994226\n",
      "[44]\tvalidation_0-rmse:1.0037\tvalidation_1-rmse:0.994038\n",
      "[45]\tvalidation_0-rmse:1.00342\tvalidation_1-rmse:0.99387\n",
      "[46]\tvalidation_0-rmse:1.00274\tvalidation_1-rmse:0.993337\n",
      "[47]\tvalidation_0-rmse:1.00209\tvalidation_1-rmse:0.992885\n",
      "[48]\tvalidation_0-rmse:1.00132\tvalidation_1-rmse:0.992391\n",
      "[49]\tvalidation_0-rmse:1.00074\tvalidation_1-rmse:0.991992\n",
      "[50]\tvalidation_0-rmse:1.00041\tvalidation_1-rmse:0.991684\n",
      "[51]\tvalidation_0-rmse:0.99998\tvalidation_1-rmse:0.991176\n",
      "[52]\tvalidation_0-rmse:0.999628\tvalidation_1-rmse:0.99087\n",
      "[53]\tvalidation_0-rmse:0.999118\tvalidation_1-rmse:0.990426\n",
      "[54]\tvalidation_0-rmse:0.998863\tvalidation_1-rmse:0.990235\n",
      "[55]\tvalidation_0-rmse:0.998058\tvalidation_1-rmse:0.989962\n",
      "[56]\tvalidation_0-rmse:0.997727\tvalidation_1-rmse:0.989788\n",
      "[57]\tvalidation_0-rmse:0.99735\tvalidation_1-rmse:0.989593\n",
      "[58]\tvalidation_0-rmse:0.995773\tvalidation_1-rmse:0.98916\n",
      "[59]\tvalidation_0-rmse:0.99521\tvalidation_1-rmse:0.988858\n",
      "[60]\tvalidation_0-rmse:0.994868\tvalidation_1-rmse:0.988637\n",
      "[61]\tvalidation_0-rmse:0.994594\tvalidation_1-rmse:0.98846\n",
      "[62]\tvalidation_0-rmse:0.99411\tvalidation_1-rmse:0.987925\n",
      "[63]\tvalidation_0-rmse:0.993851\tvalidation_1-rmse:0.987686\n",
      "[64]\tvalidation_0-rmse:0.992749\tvalidation_1-rmse:0.987599\n",
      "[65]\tvalidation_0-rmse:0.992429\tvalidation_1-rmse:0.987374\n",
      "[66]\tvalidation_0-rmse:0.99176\tvalidation_1-rmse:0.98732\n",
      "[67]\tvalidation_0-rmse:0.991337\tvalidation_1-rmse:0.98703\n",
      "[68]\tvalidation_0-rmse:0.990885\tvalidation_1-rmse:0.986889\n",
      "[69]\tvalidation_0-rmse:0.990383\tvalidation_1-rmse:0.986472\n",
      "[70]\tvalidation_0-rmse:0.989491\tvalidation_1-rmse:0.986281\n",
      "[71]\tvalidation_0-rmse:0.98885\tvalidation_1-rmse:0.98547\n",
      "[72]\tvalidation_0-rmse:0.988506\tvalidation_1-rmse:0.985281\n",
      "[73]\tvalidation_0-rmse:0.987923\tvalidation_1-rmse:0.985741\n",
      "[74]\tvalidation_0-rmse:0.98758\tvalidation_1-rmse:0.985473\n",
      "[75]\tvalidation_0-rmse:0.987057\tvalidation_1-rmse:0.985323\n",
      "[76]\tvalidation_0-rmse:0.986654\tvalidation_1-rmse:0.985003\n",
      "[77]\tvalidation_0-rmse:0.98614\tvalidation_1-rmse:0.985021\n",
      "[78]\tvalidation_0-rmse:0.985498\tvalidation_1-rmse:0.98486\n",
      "[79]\tvalidation_0-rmse:0.985208\tvalidation_1-rmse:0.984629\n",
      "[80]\tvalidation_0-rmse:0.984747\tvalidation_1-rmse:0.984657\n",
      "[81]\tvalidation_0-rmse:0.984226\tvalidation_1-rmse:0.984604\n",
      "[82]\tvalidation_0-rmse:0.983725\tvalidation_1-rmse:0.984476\n",
      "[83]\tvalidation_0-rmse:0.983217\tvalidation_1-rmse:0.9847\n",
      "[84]\tvalidation_0-rmse:0.98273\tvalidation_1-rmse:0.984341\n",
      "[85]\tvalidation_0-rmse:0.982337\tvalidation_1-rmse:0.98422\n",
      "[86]\tvalidation_0-rmse:0.982033\tvalidation_1-rmse:0.984084\n",
      "[87]\tvalidation_0-rmse:0.981745\tvalidation_1-rmse:0.983704\n",
      "[88]\tvalidation_0-rmse:0.981253\tvalidation_1-rmse:0.983884\n",
      "[89]\tvalidation_0-rmse:0.980885\tvalidation_1-rmse:0.984086\n",
      "[90]\tvalidation_0-rmse:0.980472\tvalidation_1-rmse:0.984062\n",
      "[91]\tvalidation_0-rmse:0.980219\tvalidation_1-rmse:0.983786\n",
      "[92]\tvalidation_0-rmse:0.98005\tvalidation_1-rmse:0.983758\n",
      "[93]\tvalidation_0-rmse:0.979727\tvalidation_1-rmse:0.982872\n",
      "[94]\tvalidation_0-rmse:0.979209\tvalidation_1-rmse:0.982676\n",
      "[95]\tvalidation_0-rmse:0.97906\tvalidation_1-rmse:0.982677\n",
      "[96]\tvalidation_0-rmse:0.978866\tvalidation_1-rmse:0.98264\n",
      "[97]\tvalidation_0-rmse:0.978487\tvalidation_1-rmse:0.98185\n",
      "[98]\tvalidation_0-rmse:0.978297\tvalidation_1-rmse:0.981721\n",
      "[99]\tvalidation_0-rmse:0.978075\tvalidation_1-rmse:0.981574\n",
      "[100]\tvalidation_0-rmse:0.977897\tvalidation_1-rmse:0.981512\n",
      "[101]\tvalidation_0-rmse:0.977478\tvalidation_1-rmse:0.980859\n",
      "[102]\tvalidation_0-rmse:0.977088\tvalidation_1-rmse:0.980713\n",
      "[103]\tvalidation_0-rmse:0.97696\tvalidation_1-rmse:0.980632\n",
      "[104]\tvalidation_0-rmse:0.97644\tvalidation_1-rmse:0.980422\n",
      "[105]\tvalidation_0-rmse:0.976128\tvalidation_1-rmse:0.980426\n",
      "[106]\tvalidation_0-rmse:0.975968\tvalidation_1-rmse:0.980333\n",
      "[107]\tvalidation_0-rmse:0.975753\tvalidation_1-rmse:0.980234\n",
      "[108]\tvalidation_0-rmse:0.975641\tvalidation_1-rmse:0.980139\n",
      "[109]\tvalidation_0-rmse:0.975413\tvalidation_1-rmse:0.980011\n",
      "[110]\tvalidation_0-rmse:0.975263\tvalidation_1-rmse:0.979972\n",
      "[111]\tvalidation_0-rmse:0.975112\tvalidation_1-rmse:0.979988\n",
      "[112]\tvalidation_0-rmse:0.974975\tvalidation_1-rmse:0.979733\n",
      "[113]\tvalidation_0-rmse:0.974809\tvalidation_1-rmse:0.979403\n",
      "[114]\tvalidation_0-rmse:0.974629\tvalidation_1-rmse:0.979264\n",
      "[115]\tvalidation_0-rmse:0.974318\tvalidation_1-rmse:0.978953\n",
      "[116]\tvalidation_0-rmse:0.974088\tvalidation_1-rmse:0.978785\n",
      "[117]\tvalidation_0-rmse:0.973645\tvalidation_1-rmse:0.978717\n",
      "[118]\tvalidation_0-rmse:0.973015\tvalidation_1-rmse:0.978577\n",
      "[119]\tvalidation_0-rmse:0.972777\tvalidation_1-rmse:0.978467\n",
      "[120]\tvalidation_0-rmse:0.972557\tvalidation_1-rmse:0.978322\n",
      "[121]\tvalidation_0-rmse:0.972327\tvalidation_1-rmse:0.978345\n",
      "[122]\tvalidation_0-rmse:0.971618\tvalidation_1-rmse:0.978325\n",
      "[123]\tvalidation_0-rmse:0.971443\tvalidation_1-rmse:0.978203\n",
      "[124]\tvalidation_0-rmse:0.971303\tvalidation_1-rmse:0.978163\n",
      "[125]\tvalidation_0-rmse:0.970775\tvalidation_1-rmse:0.978204\n",
      "[126]\tvalidation_0-rmse:0.970708\tvalidation_1-rmse:0.978146\n",
      "[127]\tvalidation_0-rmse:0.970606\tvalidation_1-rmse:0.978139\n",
      "[128]\tvalidation_0-rmse:0.97051\tvalidation_1-rmse:0.978067\n",
      "[129]\tvalidation_0-rmse:0.97044\tvalidation_1-rmse:0.977785\n",
      "[130]\tvalidation_0-rmse:0.970374\tvalidation_1-rmse:0.977821\n",
      "[131]\tvalidation_0-rmse:0.97028\tvalidation_1-rmse:0.977757\n",
      "[132]\tvalidation_0-rmse:0.969576\tvalidation_1-rmse:0.977896\n"
     ]
    },
    {
     "name": "stdout",
     "output_type": "stream",
     "text": [
      "[133]\tvalidation_0-rmse:0.969441\tvalidation_1-rmse:0.977938\n",
      "[134]\tvalidation_0-rmse:0.969297\tvalidation_1-rmse:0.977901\n",
      "[135]\tvalidation_0-rmse:0.968927\tvalidation_1-rmse:0.977762\n",
      "[136]\tvalidation_0-rmse:0.968836\tvalidation_1-rmse:0.977672\n",
      "[137]\tvalidation_0-rmse:0.968742\tvalidation_1-rmse:0.977648\n",
      "[138]\tvalidation_0-rmse:0.968523\tvalidation_1-rmse:0.977487\n",
      "[139]\tvalidation_0-rmse:0.968466\tvalidation_1-rmse:0.977397\n",
      "[140]\tvalidation_0-rmse:0.968392\tvalidation_1-rmse:0.977311\n",
      "[141]\tvalidation_0-rmse:0.968254\tvalidation_1-rmse:0.977306\n",
      "[142]\tvalidation_0-rmse:0.96821\tvalidation_1-rmse:0.977281\n",
      "[143]\tvalidation_0-rmse:0.968094\tvalidation_1-rmse:0.977251\n",
      "[144]\tvalidation_0-rmse:0.967986\tvalidation_1-rmse:0.977304\n",
      "[145]\tvalidation_0-rmse:0.967827\tvalidation_1-rmse:0.977199\n",
      "[146]\tvalidation_0-rmse:0.967681\tvalidation_1-rmse:0.977285\n",
      "[147]\tvalidation_0-rmse:0.967539\tvalidation_1-rmse:0.977284\n",
      "[148]\tvalidation_0-rmse:0.967441\tvalidation_1-rmse:0.97724\n",
      "[149]\tvalidation_0-rmse:0.967172\tvalidation_1-rmse:0.97709\n",
      "[150]\tvalidation_0-rmse:0.967054\tvalidation_1-rmse:0.977001\n",
      "[151]\tvalidation_0-rmse:0.966661\tvalidation_1-rmse:0.977173\n",
      "[152]\tvalidation_0-rmse:0.966558\tvalidation_1-rmse:0.977164\n",
      "[153]\tvalidation_0-rmse:0.966324\tvalidation_1-rmse:0.977016\n",
      "[154]\tvalidation_0-rmse:0.966167\tvalidation_1-rmse:0.976767\n",
      "[155]\tvalidation_0-rmse:0.96588\tvalidation_1-rmse:0.977218\n",
      "[156]\tvalidation_0-rmse:0.965792\tvalidation_1-rmse:0.977177\n",
      "[157]\tvalidation_0-rmse:0.965685\tvalidation_1-rmse:0.977283\n",
      "[158]\tvalidation_0-rmse:0.965583\tvalidation_1-rmse:0.977189\n",
      "[159]\tvalidation_0-rmse:0.9654\tvalidation_1-rmse:0.977053\n",
      "[160]\tvalidation_0-rmse:0.96521\tvalidation_1-rmse:0.976931\n",
      "[161]\tvalidation_0-rmse:0.96513\tvalidation_1-rmse:0.976648\n",
      "[162]\tvalidation_0-rmse:0.965086\tvalidation_1-rmse:0.976625\n",
      "[163]\tvalidation_0-rmse:0.96495\tvalidation_1-rmse:0.976576\n",
      "[164]\tvalidation_0-rmse:0.964897\tvalidation_1-rmse:0.976571\n",
      "[165]\tvalidation_0-rmse:0.964778\tvalidation_1-rmse:0.976575\n",
      "[166]\tvalidation_0-rmse:0.964746\tvalidation_1-rmse:0.976589\n",
      "[167]\tvalidation_0-rmse:0.964677\tvalidation_1-rmse:0.976615\n",
      "[168]\tvalidation_0-rmse:0.964392\tvalidation_1-rmse:0.976783\n",
      "[169]\tvalidation_0-rmse:0.964223\tvalidation_1-rmse:0.976784\n",
      "[170]\tvalidation_0-rmse:0.96416\tvalidation_1-rmse:0.976728\n",
      "[171]\tvalidation_0-rmse:0.96403\tvalidation_1-rmse:0.976781\n",
      "[172]\tvalidation_0-rmse:0.963912\tvalidation_1-rmse:0.976743\n",
      "[173]\tvalidation_0-rmse:0.963819\tvalidation_1-rmse:0.976715\n",
      "[174]\tvalidation_0-rmse:0.963782\tvalidation_1-rmse:0.976666\n",
      "Stopping. Best iteration:\n",
      "[164]\tvalidation_0-rmse:0.964897\tvalidation_1-rmse:0.976571\n",
      "\n"
     ]
    },
    {
     "data": {
      "text/plain": [
       "XGBRegressor(base_score=0.5, booster='gbtree', colsample_bylevel=1,\n",
       "             colsample_bynode=1, colsample_bytree=0.8, eta=0.3, gamma=0,\n",
       "             importance_type='gain', learning_rate=0.1, max_delta_step=0,\n",
       "             max_depth=8, min_child_weight=300, missing=None, n_estimators=1000,\n",
       "             n_jobs=1, nthread=None, objective='reg:linear', random_state=0,\n",
       "             reg_alpha=0, reg_lambda=1, scale_pos_weight=1, seed=42,\n",
       "             silent=None, subsample=0.8, verbosity=1)"
      ]
     },
     "execution_count": 53,
     "metadata": {},
     "output_type": "execute_result"
    },
    {
     "data": {
      "text/plain": [
       "1666.4006321430206"
      ]
     },
     "execution_count": 53,
     "metadata": {},
     "output_type": "execute_result"
    }
   ],
   "source": [
    "ts = time.time()\n",
    "\n",
    "model = XGBRegressor(\n",
    "    max_depth=8,\n",
    "    n_estimators=1000,\n",
    "    min_child_weight=300, \n",
    "    colsample_bytree=0.8, \n",
    "    subsample=0.8, \n",
    "    eta=0.3,    \n",
    "    seed=42)\n",
    "\n",
    "model.fit(\n",
    "    X_train, \n",
    "    Y_train, \n",
    "    eval_metric=\"rmse\", \n",
    "    eval_set=[(X_train, Y_train), (X_valid, Y_valid)], \n",
    "    verbose=True, \n",
    "    early_stopping_rounds = 10)\n",
    "\n",
    "time.time() - ts"
   ]
  },
  {
   "cell_type": "code",
   "execution_count": 55,
   "metadata": {},
   "outputs": [],
   "source": [
    "Y_pred = model.predict(X_valid).clip(0, 20)\n",
    "Y_test = model.predict(X_test).clip(0, 20)\n",
    "submission = pd.DataFrame({\n",
    "    \"ID\": test.index, \n",
    "    \"item_cnt_month\": Y_test\n",
    "})\n",
    "submission.to_csv('xgb_submission.csv', index=False)\n"
   ]
  },
  {
   "cell_type": "code",
   "execution_count": null,
   "metadata": {},
   "outputs": [],
   "source": []
  }
 ],
 "metadata": {
  "kernelspec": {
   "display_name": "Python 3",
   "language": "python",
   "name": "python3"
  },
  "language_info": {
   "codemirror_mode": {
    "name": "ipython",
    "version": 3
   },
   "file_extension": ".py",
   "mimetype": "text/x-python",
   "name": "python",
   "nbconvert_exporter": "python",
   "pygments_lexer": "ipython3",
   "version": "3.6.9"
  }
 },
 "nbformat": 4,
 "nbformat_minor": 2
}
