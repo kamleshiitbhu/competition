{
 "cells": [
  {
   "cell_type": "code",
   "execution_count": 21,
   "metadata": {},
   "outputs": [],
   "source": [
    "import pandas as pd\n",
    "import os\n",
    "from tqdm import tqdm_notebook\n",
    "import numpy as np\n",
    "\n",
    "from itertools import product\n",
    "from sklearn.preprocessing import LabelEncoder\n",
    "\n",
    "from xgboost import XGBRegressor\n",
    "from xgboost import plot_importance\n",
    "\n",
    "import time"
   ]
  },
  {
   "cell_type": "code",
   "execution_count": 22,
   "metadata": {},
   "outputs": [
    {
     "data": {
      "text/plain": [
       "['test.csv.gz',\n",
       " 'sample_submission.csv.gz',\n",
       " 'shops.csv',\n",
       " 'sales_train.csv.gz',\n",
       " 'item_categories.csv',\n",
       " 'items.csv']"
      ]
     },
     "execution_count": 22,
     "metadata": {},
     "output_type": "execute_result"
    }
   ],
   "source": [
    "PATH = './data'\n",
    "os.listdir(PATH)"
   ]
  },
  {
   "cell_type": "code",
   "execution_count": 23,
   "metadata": {},
   "outputs": [],
   "source": [
    "test     = pd.read_csv(os.path.join(PATH,'test.csv.gz'))\n",
    "shops    = pd.read_csv(os.path.join(PATH,'shops.csv'))\n",
    "sales    = pd.read_csv(os.path.join(PATH,'sales_train.csv.gz'))\n",
    "item_cat = pd.read_csv(os.path.join(PATH,'item_categories.csv'))\n",
    "item     = pd.read_csv(os.path.join(PATH,'items.csv'))"
   ]
  },
  {
   "cell_type": "markdown",
   "metadata": {},
   "source": [
    "few shops are duplicated as 0 and 57 , 1 and 58, 10 and 11"
   ]
  },
  {
   "cell_type": "code",
   "execution_count": 24,
   "metadata": {},
   "outputs": [],
   "source": [
    "sales.loc[sales.shop_id == 0,'shop_id'] = 57\n",
    "sales.loc[sales.shop_id == 1,'shop_id'] = 58\n",
    "sales.loc[sales.shop_id == 10,'shop_id'] = 11"
   ]
  },
  {
   "cell_type": "code",
   "execution_count": 25,
   "metadata": {},
   "outputs": [],
   "source": [
    "shops.loc[shops.shop_name == 'Сергиев Посад ТЦ \"7Я\"', 'shop_name'] = 'СергиевПосад ТЦ \"7Я\"'\n",
    "shops['city'] = shops['shop_name'].str.split(' ').map(lambda x: x[0])\n",
    "shops.loc[shops.city == '!Якутск', 'city'] = 'Якутск'\n",
    "shops['city_code'] = LabelEncoder().fit_transform(shops['city'])\n",
    "shops = shops[['shop_id','city_code']]\n",
    "\n",
    "item_cat['split'] = item_cat['item_category_name'].str.split('-')\n",
    "item_cat['type'] = item_cat['split'].map(lambda x: x[0])\n",
    "item_cat['type_code'] = LabelEncoder().fit_transform(item_cat['type'])\n",
    "\n",
    "item_cat['subtype'] = item_cat['split'].map(lambda x: x[1].strip() if len(x) > 1 else x[0].strip())\n",
    "item_cat['subtype_code'] = LabelEncoder().fit_transform(item_cat['subtype'])\n",
    "item_cat.drop(['item_category_name','split','type','subtype'],axis=1,inplace=True)\n",
    "\n",
    "item.drop(['item_name'], axis=1, inplace=True)"
   ]
  },
  {
   "cell_type": "code",
   "execution_count": 26,
   "metadata": {},
   "outputs": [],
   "source": [
    "index_col = ['shop_id','item_id','date_block_num']"
   ]
  },
  {
   "cell_type": "code",
   "execution_count": 27,
   "metadata": {},
   "outputs": [
    {
     "data": {
      "text/plain": [
       "5.115501165390015"
      ]
     },
     "execution_count": 27,
     "metadata": {},
     "output_type": "execute_result"
    }
   ],
   "source": [
    "ts = time.time()\n",
    "\n",
    "matrix = []\n",
    "for i in range(34):\n",
    "    train = sales[sales.date_block_num==i]\n",
    "    matrix.append(np.array(list(product(train.shop_id.unique(), train.item_id.unique(), [i])), dtype='int16'))\n",
    "    del train\n",
    "    \n",
    "matrix = pd.DataFrame(np.vstack(matrix), columns=index_col)\n",
    "matrix['date_block_num'] = matrix['date_block_num'].astype(np.int8)\n",
    "matrix['shop_id'] = matrix['shop_id'].astype(np.int8)\n",
    "matrix['item_id'] = matrix['item_id'].astype(np.int16)\n",
    "\n",
    "time.time() - ts"
   ]
  },
  {
   "cell_type": "code",
   "execution_count": 28,
   "metadata": {},
   "outputs": [
    {
     "data": {
      "text/plain": [
       "4.018275260925293"
      ]
     },
     "execution_count": 28,
     "metadata": {},
     "output_type": "execute_result"
    }
   ],
   "source": [
    "ts = time.time()\n",
    "\n",
    "group = sales.groupby(index_col).agg({'item_cnt_day':'sum'})\n",
    "group.columns = ['item_cnt_month']\n",
    "group.reset_index(inplace=True)\n",
    "\n",
    "matrix = pd.merge(matrix,group,on=index_col,how='left')\n",
    "matrix['item_cnt_month'] = matrix['item_cnt_month'].fillna(0).clip(0,20).astype(np.float16)\n",
    "\n",
    "time.time() - ts"
   ]
  },
  {
   "cell_type": "code",
   "execution_count": 29,
   "metadata": {},
   "outputs": [],
   "source": [
    "test['date_block_num'] = 34\n",
    "test['date_block_num'] = test['date_block_num'].astype(np.int8)\n",
    "test['shop_id'] = test['shop_id'].astype(np.int8)\n",
    "test['item_id'] = test['item_id'].astype(np.int16)\n",
    "test = test[index_col]"
   ]
  },
  {
   "cell_type": "code",
   "execution_count": 30,
   "metadata": {},
   "outputs": [
    {
     "data": {
      "text/plain": [
       "0.12876605987548828"
      ]
     },
     "execution_count": 30,
     "metadata": {},
     "output_type": "execute_result"
    }
   ],
   "source": [
    "ts = time.time()\n",
    "matrix = pd.concat([matrix, test], ignore_index=True, sort=False, keys=index_col)\n",
    "matrix.fillna(0, inplace=True) # 34 month\n",
    "time.time() - ts"
   ]
  },
  {
   "cell_type": "markdown",
   "metadata": {},
   "source": [
    "## Shops/Item/Item_cat features"
   ]
  },
  {
   "cell_type": "code",
   "execution_count": 31,
   "metadata": {},
   "outputs": [
    {
     "data": {
      "text/plain": [
       "3.3303709030151367"
      ]
     },
     "execution_count": 31,
     "metadata": {},
     "output_type": "execute_result"
    }
   ],
   "source": [
    "ts = time.time()\n",
    "matrix = pd.merge(matrix,shops,on=['shop_id'],how='left')\n",
    "matrix = pd.merge(matrix,item,on=['item_id'],how='left')\n",
    "matrix = pd.merge(matrix,item_cat,on=['item_category_id'],how='left')\n",
    "matrix['city_code'] = matrix['city_code'].astype(np.int8)\n",
    "matrix['item_category_id'] = matrix['item_category_id'].astype(np.int8)\n",
    "matrix['type_code'] = matrix['type_code'].astype(np.int8)\n",
    "matrix['subtype_code'] = matrix['subtype_code'].astype(np.int8)\n",
    "time.time() - ts"
   ]
  },
  {
   "cell_type": "code",
   "execution_count": 32,
   "metadata": {},
   "outputs": [],
   "source": [
    "def lag_feature(df, lags, col):\n",
    "    tmp = df[['date_block_num','shop_id','item_id',col]]\n",
    "    for i in lags:\n",
    "        shifted = tmp.copy()\n",
    "        shifted.columns = ['date_block_num','shop_id','item_id', col+'_lag_'+str(i)]\n",
    "        shifted['date_block_num'] += i\n",
    "        df = pd.merge(df, shifted, on=['date_block_num','shop_id','item_id'], how='left')\n",
    "        df[col+'_lag_'+str(i)] = df[col+'_lag_'+str(i)].fillna(0).astype(np.float16)\n",
    "    return df"
   ]
  },
  {
   "cell_type": "code",
   "execution_count": 33,
   "metadata": {},
   "outputs": [],
   "source": [
    "matrix = lag_feature(matrix,[6,12],'item_cnt_month')"
   ]
  },
  {
   "cell_type": "markdown",
   "metadata": {},
   "source": [
    "## Mean Encoding"
   ]
  },
  {
   "cell_type": "code",
   "execution_count": 34,
   "metadata": {},
   "outputs": [
    {
     "data": {
      "text/plain": [
       "12.71218466758728"
      ]
     },
     "execution_count": 34,
     "metadata": {},
     "output_type": "execute_result"
    }
   ],
   "source": [
    "ts = time.time()\n",
    "col = ['date_block_num']\n",
    "group = matrix.groupby(col).agg({'item_cnt_month':'mean'})\n",
    "group.columns = ['date_avg_item_cnt']\n",
    "group.reset_index(inplace=True)\n",
    "\n",
    "matrix = pd.merge(matrix,group,on=col,how='left')\n",
    "matrix = lag_feature(matrix,[6,12],'date_avg_item_cnt')\n",
    "matrix['date_avg_item_cnt'] = matrix['date_avg_item_cnt'].fillna(0).astype(np.float16)\n",
    "time.time() - ts"
   ]
  },
  {
   "cell_type": "code",
   "execution_count": 35,
   "metadata": {},
   "outputs": [
    {
     "data": {
      "text/plain": [
       "13.761604309082031"
      ]
     },
     "execution_count": 35,
     "metadata": {},
     "output_type": "execute_result"
    }
   ],
   "source": [
    "ts = time.time()\n",
    "col = ['shop_id','date_block_num']\n",
    "group = matrix.groupby(col).agg({'item_cnt_month':'mean'})\n",
    "group.columns = ['date_shop_avg_item_cnt']\n",
    "group.reset_index(inplace=True)\n",
    "\n",
    "matrix = pd.merge(matrix,group,on=col,how='left')\n",
    "matrix = lag_feature(matrix,[6,12],'date_shop_avg_item_cnt')\n",
    "matrix['date_shop_avg_item_cnt'] = matrix['date_shop_avg_item_cnt'].fillna(0).astype(np.float16)\n",
    "time.time() - ts"
   ]
  },
  {
   "cell_type": "code",
   "execution_count": 36,
   "metadata": {},
   "outputs": [
    {
     "data": {
      "text/plain": [
       "15.634974956512451"
      ]
     },
     "execution_count": 36,
     "metadata": {},
     "output_type": "execute_result"
    }
   ],
   "source": [
    "ts = time.time()\n",
    "col = ['item_id','date_block_num']\n",
    "group = matrix.groupby(col).agg({'item_cnt_month':'mean'})\n",
    "group.columns = ['date_item_avg_item_cnt']\n",
    "group.reset_index(inplace=True)\n",
    "\n",
    "matrix = pd.merge(matrix,group,on=col,how='left')\n",
    "matrix = lag_feature(matrix,[6,12],'date_item_avg_item_cnt')\n",
    "matrix['date_item_avg_item_cnt'] = matrix['date_item_avg_item_cnt'].fillna(0).astype(np.float16)\n",
    "time.time() - ts"
   ]
  },
  {
   "cell_type": "code",
   "execution_count": 37,
   "metadata": {},
   "outputs": [],
   "source": [
    "matrix.drop(['date_avg_item_cnt','date_shop_avg_item_cnt','date_item_avg_item_cnt'],axis=1,inplace=True)"
   ]
  },
  {
   "cell_type": "code",
   "execution_count": 38,
   "metadata": {},
   "outputs": [
    {
     "data": {
      "text/html": [
       "<div>\n",
       "<style scoped>\n",
       "    .dataframe tbody tr th:only-of-type {\n",
       "        vertical-align: middle;\n",
       "    }\n",
       "\n",
       "    .dataframe tbody tr th {\n",
       "        vertical-align: top;\n",
       "    }\n",
       "\n",
       "    .dataframe thead th {\n",
       "        text-align: right;\n",
       "    }\n",
       "</style>\n",
       "<table border=\"1\" class=\"dataframe\">\n",
       "  <thead>\n",
       "    <tr style=\"text-align: right;\">\n",
       "      <th></th>\n",
       "      <th>shop_id</th>\n",
       "      <th>item_id</th>\n",
       "      <th>date_block_num</th>\n",
       "      <th>item_cnt_month</th>\n",
       "      <th>city_code</th>\n",
       "      <th>item_category_id</th>\n",
       "      <th>type_code</th>\n",
       "      <th>subtype_code</th>\n",
       "      <th>item_cnt_month_lag_6</th>\n",
       "      <th>item_cnt_month_lag_12</th>\n",
       "      <th>date_avg_item_cnt_lag_6</th>\n",
       "      <th>date_avg_item_cnt_lag_12</th>\n",
       "      <th>date_shop_avg_item_cnt_lag_6</th>\n",
       "      <th>date_shop_avg_item_cnt_lag_12</th>\n",
       "      <th>date_item_avg_item_cnt_lag_6</th>\n",
       "      <th>date_item_avg_item_cnt_lag_12</th>\n",
       "    </tr>\n",
       "  </thead>\n",
       "  <tbody>\n",
       "    <tr>\n",
       "      <th>0</th>\n",
       "      <td>59</td>\n",
       "      <td>22154</td>\n",
       "      <td>0</td>\n",
       "      <td>1.0</td>\n",
       "      <td>30</td>\n",
       "      <td>37</td>\n",
       "      <td>11</td>\n",
       "      <td>1</td>\n",
       "      <td>0.0</td>\n",
       "      <td>0.0</td>\n",
       "      <td>0.0</td>\n",
       "      <td>0.0</td>\n",
       "      <td>0.0</td>\n",
       "      <td>0.0</td>\n",
       "      <td>0.0</td>\n",
       "      <td>0.0</td>\n",
       "    </tr>\n",
       "    <tr>\n",
       "      <th>1</th>\n",
       "      <td>59</td>\n",
       "      <td>2552</td>\n",
       "      <td>0</td>\n",
       "      <td>0.0</td>\n",
       "      <td>30</td>\n",
       "      <td>58</td>\n",
       "      <td>13</td>\n",
       "      <td>27</td>\n",
       "      <td>0.0</td>\n",
       "      <td>0.0</td>\n",
       "      <td>0.0</td>\n",
       "      <td>0.0</td>\n",
       "      <td>0.0</td>\n",
       "      <td>0.0</td>\n",
       "      <td>0.0</td>\n",
       "      <td>0.0</td>\n",
       "    </tr>\n",
       "    <tr>\n",
       "      <th>2</th>\n",
       "      <td>59</td>\n",
       "      <td>2554</td>\n",
       "      <td>0</td>\n",
       "      <td>0.0</td>\n",
       "      <td>30</td>\n",
       "      <td>58</td>\n",
       "      <td>13</td>\n",
       "      <td>27</td>\n",
       "      <td>0.0</td>\n",
       "      <td>0.0</td>\n",
       "      <td>0.0</td>\n",
       "      <td>0.0</td>\n",
       "      <td>0.0</td>\n",
       "      <td>0.0</td>\n",
       "      <td>0.0</td>\n",
       "      <td>0.0</td>\n",
       "    </tr>\n",
       "    <tr>\n",
       "      <th>3</th>\n",
       "      <td>59</td>\n",
       "      <td>2555</td>\n",
       "      <td>0</td>\n",
       "      <td>0.0</td>\n",
       "      <td>30</td>\n",
       "      <td>56</td>\n",
       "      <td>13</td>\n",
       "      <td>3</td>\n",
       "      <td>0.0</td>\n",
       "      <td>0.0</td>\n",
       "      <td>0.0</td>\n",
       "      <td>0.0</td>\n",
       "      <td>0.0</td>\n",
       "      <td>0.0</td>\n",
       "      <td>0.0</td>\n",
       "      <td>0.0</td>\n",
       "    </tr>\n",
       "    <tr>\n",
       "      <th>4</th>\n",
       "      <td>59</td>\n",
       "      <td>2564</td>\n",
       "      <td>0</td>\n",
       "      <td>0.0</td>\n",
       "      <td>30</td>\n",
       "      <td>59</td>\n",
       "      <td>13</td>\n",
       "      <td>40</td>\n",
       "      <td>0.0</td>\n",
       "      <td>0.0</td>\n",
       "      <td>0.0</td>\n",
       "      <td>0.0</td>\n",
       "      <td>0.0</td>\n",
       "      <td>0.0</td>\n",
       "      <td>0.0</td>\n",
       "      <td>0.0</td>\n",
       "    </tr>\n",
       "  </tbody>\n",
       "</table>\n",
       "</div>"
      ],
      "text/plain": [
       "   shop_id  item_id  date_block_num  item_cnt_month  city_code  \\\n",
       "0       59    22154               0             1.0         30   \n",
       "1       59     2552               0             0.0         30   \n",
       "2       59     2554               0             0.0         30   \n",
       "3       59     2555               0             0.0         30   \n",
       "4       59     2564               0             0.0         30   \n",
       "\n",
       "   item_category_id  type_code  subtype_code  item_cnt_month_lag_6  \\\n",
       "0                37         11             1                   0.0   \n",
       "1                58         13            27                   0.0   \n",
       "2                58         13            27                   0.0   \n",
       "3                56         13             3                   0.0   \n",
       "4                59         13            40                   0.0   \n",
       "\n",
       "   item_cnt_month_lag_12  date_avg_item_cnt_lag_6  date_avg_item_cnt_lag_12  \\\n",
       "0                    0.0                      0.0                       0.0   \n",
       "1                    0.0                      0.0                       0.0   \n",
       "2                    0.0                      0.0                       0.0   \n",
       "3                    0.0                      0.0                       0.0   \n",
       "4                    0.0                      0.0                       0.0   \n",
       "\n",
       "   date_shop_avg_item_cnt_lag_6  date_shop_avg_item_cnt_lag_12  \\\n",
       "0                           0.0                            0.0   \n",
       "1                           0.0                            0.0   \n",
       "2                           0.0                            0.0   \n",
       "3                           0.0                            0.0   \n",
       "4                           0.0                            0.0   \n",
       "\n",
       "   date_item_avg_item_cnt_lag_6  date_item_avg_item_cnt_lag_12  \n",
       "0                           0.0                            0.0  \n",
       "1                           0.0                            0.0  \n",
       "2                           0.0                            0.0  \n",
       "3                           0.0                            0.0  \n",
       "4                           0.0                            0.0  "
      ]
     },
     "execution_count": 38,
     "metadata": {},
     "output_type": "execute_result"
    }
   ],
   "source": [
    "matrix.head()"
   ]
  },
  {
   "cell_type": "code",
   "execution_count": 39,
   "metadata": {},
   "outputs": [],
   "source": [
    "matrix = matrix[matrix.date_block_num > 12]\n",
    "data = matrix.copy()\n",
    "\n",
    "X_train = data[data.date_block_num < 33].drop(['item_cnt_month'], axis=1)\n",
    "Y_train = data[data.date_block_num < 33]['item_cnt_month']\n",
    "X_valid = data[data.date_block_num == 33].drop(['item_cnt_month'], axis=1)\n",
    "Y_valid = data[data.date_block_num == 33]['item_cnt_month']\n",
    "X_test = data[data.date_block_num == 34].drop(['item_cnt_month'], axis=1)"
   ]
  },
  {
   "cell_type": "code",
   "execution_count": 40,
   "metadata": {},
   "outputs": [
    {
     "name": "stderr",
     "output_type": "stream",
     "text": [
      "/Users/kamlesh/anaconda3/envs/ironman/lib/python3.6/site-packages/xgboost/core.py:587: FutureWarning: Series.base is deprecated and will be removed in a future version\n",
      "  if getattr(data, 'base', None) is not None and \\\n",
      "/Users/kamlesh/anaconda3/envs/ironman/lib/python3.6/site-packages/xgboost/core.py:588: FutureWarning: Series.base is deprecated and will be removed in a future version\n",
      "  data.base is not None and isinstance(data, np.ndarray) \\\n"
     ]
    },
    {
     "name": "stdout",
     "output_type": "stream",
     "text": [
      "[15:12:08] WARNING: src/objective/regression_obj.cu:152: reg:linear is now deprecated in favor of reg:squarederror.\n",
      "[15:12:08] WARNING: src/learner.cc:686: Tree method is automatically selected to be 'approx' for faster speed. To use old behavior (exact greedy algorithm on single machine), set tree_method to 'exact'.\n",
      "[0]\tvalidation_0-rmse:1.15315\tvalidation_1-rmse:1.13585\n",
      "Multiple eval metrics have been passed: 'validation_1-rmse' will be used for early stopping.\n",
      "\n",
      "Will train until validation_1-rmse hasn't improved in 10 rounds.\n",
      "[1]\tvalidation_0-rmse:1.13467\tvalidation_1-rmse:1.11595\n",
      "[2]\tvalidation_0-rmse:1.12\tvalidation_1-rmse:1.09892\n",
      "[3]\tvalidation_0-rmse:1.09999\tvalidation_1-rmse:1.08606\n",
      "[4]\tvalidation_0-rmse:1.08605\tvalidation_1-rmse:1.0746\n",
      "[5]\tvalidation_0-rmse:1.07602\tvalidation_1-rmse:1.06501\n",
      "[6]\tvalidation_0-rmse:1.06816\tvalidation_1-rmse:1.05762\n",
      "[7]\tvalidation_0-rmse:1.05868\tvalidation_1-rmse:1.05044\n",
      "[8]\tvalidation_0-rmse:1.05137\tvalidation_1-rmse:1.04418\n",
      "[9]\tvalidation_0-rmse:1.04656\tvalidation_1-rmse:1.03919\n",
      "[10]\tvalidation_0-rmse:1.04178\tvalidation_1-rmse:1.0336\n",
      "[11]\tvalidation_0-rmse:1.03734\tvalidation_1-rmse:1.03002\n",
      "[12]\tvalidation_0-rmse:1.03343\tvalidation_1-rmse:1.02712\n",
      "[13]\tvalidation_0-rmse:1.03014\tvalidation_1-rmse:1.02599\n",
      "[14]\tvalidation_0-rmse:1.02686\tvalidation_1-rmse:1.02358\n",
      "[15]\tvalidation_0-rmse:1.02448\tvalidation_1-rmse:1.02109\n",
      "[16]\tvalidation_0-rmse:1.02242\tvalidation_1-rmse:1.01889\n",
      "[17]\tvalidation_0-rmse:1.02027\tvalidation_1-rmse:1.01727\n",
      "[18]\tvalidation_0-rmse:1.01871\tvalidation_1-rmse:1.01617\n",
      "[19]\tvalidation_0-rmse:1.01686\tvalidation_1-rmse:1.01428\n",
      "[20]\tvalidation_0-rmse:1.01512\tvalidation_1-rmse:1.01447\n",
      "[21]\tvalidation_0-rmse:1.01384\tvalidation_1-rmse:1.01431\n",
      "[22]\tvalidation_0-rmse:1.01286\tvalidation_1-rmse:1.01311\n",
      "[23]\tvalidation_0-rmse:1.01174\tvalidation_1-rmse:1.01221\n",
      "[24]\tvalidation_0-rmse:1.01037\tvalidation_1-rmse:1.01124\n",
      "[25]\tvalidation_0-rmse:1.00897\tvalidation_1-rmse:1.01083\n",
      "[26]\tvalidation_0-rmse:1.00784\tvalidation_1-rmse:1.00995\n",
      "[27]\tvalidation_0-rmse:1.00684\tvalidation_1-rmse:1.00957\n",
      "[28]\tvalidation_0-rmse:1.00497\tvalidation_1-rmse:1.00874\n",
      "[29]\tvalidation_0-rmse:1.00382\tvalidation_1-rmse:1.00879\n",
      "[30]\tvalidation_0-rmse:1.00306\tvalidation_1-rmse:1.00838\n",
      "[31]\tvalidation_0-rmse:1.00177\tvalidation_1-rmse:1.00763\n",
      "[32]\tvalidation_0-rmse:1.00095\tvalidation_1-rmse:1.00776\n",
      "[33]\tvalidation_0-rmse:1.00038\tvalidation_1-rmse:1.00757\n",
      "[34]\tvalidation_0-rmse:0.999453\tvalidation_1-rmse:1.00655\n",
      "[35]\tvalidation_0-rmse:0.998921\tvalidation_1-rmse:1.00641\n",
      "[36]\tvalidation_0-rmse:0.998355\tvalidation_1-rmse:1.00621\n",
      "[37]\tvalidation_0-rmse:0.997651\tvalidation_1-rmse:1.00573\n",
      "[38]\tvalidation_0-rmse:0.996771\tvalidation_1-rmse:1.00511\n",
      "[39]\tvalidation_0-rmse:0.995597\tvalidation_1-rmse:1.00459\n",
      "[40]\tvalidation_0-rmse:0.994939\tvalidation_1-rmse:1.00419\n",
      "[41]\tvalidation_0-rmse:0.99447\tvalidation_1-rmse:1.00387\n",
      "[42]\tvalidation_0-rmse:0.993722\tvalidation_1-rmse:1.00453\n",
      "[43]\tvalidation_0-rmse:0.993206\tvalidation_1-rmse:1.00424\n",
      "[44]\tvalidation_0-rmse:0.992054\tvalidation_1-rmse:1.00304\n",
      "[45]\tvalidation_0-rmse:0.991547\tvalidation_1-rmse:1.00261\n",
      "[46]\tvalidation_0-rmse:0.990845\tvalidation_1-rmse:1.00208\n",
      "[47]\tvalidation_0-rmse:0.990579\tvalidation_1-rmse:1.00182\n",
      "[48]\tvalidation_0-rmse:0.989956\tvalidation_1-rmse:1.00136\n",
      "[49]\tvalidation_0-rmse:0.989434\tvalidation_1-rmse:1.00066\n",
      "[50]\tvalidation_0-rmse:0.988599\tvalidation_1-rmse:0.999181\n",
      "[51]\tvalidation_0-rmse:0.988056\tvalidation_1-rmse:0.998946\n",
      "[52]\tvalidation_0-rmse:0.987392\tvalidation_1-rmse:0.99839\n",
      "[53]\tvalidation_0-rmse:0.986699\tvalidation_1-rmse:0.998064\n",
      "[54]\tvalidation_0-rmse:0.986131\tvalidation_1-rmse:0.997995\n",
      "[55]\tvalidation_0-rmse:0.985546\tvalidation_1-rmse:0.997934\n",
      "[56]\tvalidation_0-rmse:0.985118\tvalidation_1-rmse:0.997886\n",
      "[57]\tvalidation_0-rmse:0.984715\tvalidation_1-rmse:0.997787\n",
      "[58]\tvalidation_0-rmse:0.984302\tvalidation_1-rmse:0.99754\n",
      "[59]\tvalidation_0-rmse:0.983407\tvalidation_1-rmse:0.997427\n",
      "[60]\tvalidation_0-rmse:0.98302\tvalidation_1-rmse:0.997273\n",
      "[61]\tvalidation_0-rmse:0.98228\tvalidation_1-rmse:0.997843\n",
      "[62]\tvalidation_0-rmse:0.981936\tvalidation_1-rmse:0.997736\n",
      "[63]\tvalidation_0-rmse:0.981542\tvalidation_1-rmse:0.997406\n",
      "[64]\tvalidation_0-rmse:0.981368\tvalidation_1-rmse:0.997433\n",
      "[65]\tvalidation_0-rmse:0.980993\tvalidation_1-rmse:0.997183\n",
      "[66]\tvalidation_0-rmse:0.980635\tvalidation_1-rmse:0.997301\n",
      "[67]\tvalidation_0-rmse:0.980264\tvalidation_1-rmse:0.996978\n",
      "[68]\tvalidation_0-rmse:0.979665\tvalidation_1-rmse:0.997712\n",
      "[69]\tvalidation_0-rmse:0.979364\tvalidation_1-rmse:0.997408\n",
      "[70]\tvalidation_0-rmse:0.978985\tvalidation_1-rmse:0.997195\n",
      "[71]\tvalidation_0-rmse:0.978618\tvalidation_1-rmse:0.997401\n",
      "[72]\tvalidation_0-rmse:0.978287\tvalidation_1-rmse:0.997454\n",
      "[73]\tvalidation_0-rmse:0.977883\tvalidation_1-rmse:0.997391\n",
      "[74]\tvalidation_0-rmse:0.977489\tvalidation_1-rmse:0.997116\n",
      "[75]\tvalidation_0-rmse:0.977127\tvalidation_1-rmse:0.997011\n",
      "[76]\tvalidation_0-rmse:0.97678\tvalidation_1-rmse:0.996751\n",
      "[77]\tvalidation_0-rmse:0.976613\tvalidation_1-rmse:0.997277\n",
      "[78]\tvalidation_0-rmse:0.976291\tvalidation_1-rmse:0.997195\n",
      "[79]\tvalidation_0-rmse:0.976055\tvalidation_1-rmse:0.997185\n",
      "[80]\tvalidation_0-rmse:0.975456\tvalidation_1-rmse:0.997019\n",
      "[81]\tvalidation_0-rmse:0.97527\tvalidation_1-rmse:0.996939\n",
      "[82]\tvalidation_0-rmse:0.974987\tvalidation_1-rmse:0.996839\n",
      "[83]\tvalidation_0-rmse:0.97472\tvalidation_1-rmse:0.996674\n",
      "[84]\tvalidation_0-rmse:0.974636\tvalidation_1-rmse:0.996608\n",
      "[85]\tvalidation_0-rmse:0.974217\tvalidation_1-rmse:0.996472\n",
      "[86]\tvalidation_0-rmse:0.973922\tvalidation_1-rmse:0.996439\n",
      "[87]\tvalidation_0-rmse:0.973631\tvalidation_1-rmse:0.996247\n",
      "[88]\tvalidation_0-rmse:0.973277\tvalidation_1-rmse:0.996423\n",
      "[89]\tvalidation_0-rmse:0.972234\tvalidation_1-rmse:0.996443\n",
      "[90]\tvalidation_0-rmse:0.971984\tvalidation_1-rmse:0.996097\n",
      "[91]\tvalidation_0-rmse:0.971769\tvalidation_1-rmse:0.996126\n",
      "[92]\tvalidation_0-rmse:0.971508\tvalidation_1-rmse:0.996153\n",
      "[93]\tvalidation_0-rmse:0.971319\tvalidation_1-rmse:0.996382\n",
      "[94]\tvalidation_0-rmse:0.970856\tvalidation_1-rmse:0.996571\n",
      "[95]\tvalidation_0-rmse:0.970702\tvalidation_1-rmse:0.996602\n",
      "[96]\tvalidation_0-rmse:0.970444\tvalidation_1-rmse:0.996439\n",
      "[97]\tvalidation_0-rmse:0.96997\tvalidation_1-rmse:0.996438\n",
      "[98]\tvalidation_0-rmse:0.969764\tvalidation_1-rmse:0.996769\n",
      "[99]\tvalidation_0-rmse:0.969454\tvalidation_1-rmse:0.996668\n",
      "[100]\tvalidation_0-rmse:0.969188\tvalidation_1-rmse:0.996548\n",
      "Stopping. Best iteration:\n",
      "[90]\tvalidation_0-rmse:0.971984\tvalidation_1-rmse:0.996097\n",
      "\n"
     ]
    },
    {
     "data": {
      "text/plain": [
       "XGBRegressor(base_score=0.5, booster='gbtree', colsample_bylevel=1,\n",
       "             colsample_bynode=1, colsample_bytree=0.8, eta=0.3, gamma=0,\n",
       "             importance_type='gain', learning_rate=0.1, max_delta_step=0,\n",
       "             max_depth=8, min_child_weight=300, missing=None, n_estimators=1000,\n",
       "             n_jobs=1, nthread=None, objective='reg:linear', random_state=0,\n",
       "             reg_alpha=0, reg_lambda=1, scale_pos_weight=1, seed=42,\n",
       "             silent=None, subsample=0.8, verbosity=1)"
      ]
     },
     "execution_count": 40,
     "metadata": {},
     "output_type": "execute_result"
    },
    {
     "data": {
      "text/plain": [
       "1655.7230489253998"
      ]
     },
     "execution_count": 40,
     "metadata": {},
     "output_type": "execute_result"
    }
   ],
   "source": [
    "ts = time.time()\n",
    "\n",
    "model = XGBRegressor(\n",
    "    max_depth=8,\n",
    "    n_estimators=1000,\n",
    "    min_child_weight=300, \n",
    "    colsample_bytree=0.8, \n",
    "    subsample=0.8, \n",
    "    eta=0.3,    \n",
    "    seed=42)\n",
    "\n",
    "model.fit(\n",
    "    X_train, \n",
    "    Y_train, \n",
    "    eval_metric=\"rmse\", \n",
    "    eval_set=[(X_train, Y_train), (X_valid, Y_valid)], \n",
    "    verbose=True, \n",
    "    early_stopping_rounds = 10)\n",
    "\n",
    "time.time() - ts"
   ]
  },
  {
   "cell_type": "code",
   "execution_count": 41,
   "metadata": {},
   "outputs": [],
   "source": [
    "Y_pred = model.predict(X_valid).clip(0, 20)\n",
    "Y_test = model.predict(X_test).clip(0, 20)\n",
    "submission = pd.DataFrame({\n",
    "    \"ID\": test.index, \n",
    "    \"item_cnt_month\": Y_test\n",
    "})\n",
    "submission.to_csv('xgb_submission.csv', index=False)\n"
   ]
  },
  {
   "cell_type": "code",
   "execution_count": null,
   "metadata": {},
   "outputs": [],
   "source": []
  }
 ],
 "metadata": {
  "kernelspec": {
   "display_name": "Python 3",
   "language": "python",
   "name": "python3"
  },
  "language_info": {
   "codemirror_mode": {
    "name": "ipython",
    "version": 3
   },
   "file_extension": ".py",
   "mimetype": "text/x-python",
   "name": "python",
   "nbconvert_exporter": "python",
   "pygments_lexer": "ipython3",
   "version": "3.6.9"
  }
 },
 "nbformat": 4,
 "nbformat_minor": 2
}
