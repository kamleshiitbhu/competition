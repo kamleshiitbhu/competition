{
 "cells": [
  {
   "cell_type": "code",
   "execution_count": 14,
   "metadata": {},
   "outputs": [],
   "source": [
    "import pandas as pd\n",
    "import os"
   ]
  },
  {
   "cell_type": "code",
   "execution_count": 15,
   "metadata": {},
   "outputs": [
    {
     "data": {
      "text/plain": [
       "['test.csv.gz',\n",
       " 'sample_submission.csv.gz',\n",
       " 'shops.csv',\n",
       " 'sales_train.csv.gz',\n",
       " 'item_categories.csv',\n",
       " 'items.csv']"
      ]
     },
     "execution_count": 15,
     "metadata": {},
     "output_type": "execute_result"
    }
   ],
   "source": [
    "PATH = './data'\n",
    "os.listdir(PATH)"
   ]
  },
  {
   "cell_type": "code",
   "execution_count": 16,
   "metadata": {},
   "outputs": [],
   "source": [
    "test     = pd.read_csv(os.path.join(PATH,'test.csv.gz'))\n",
    "shops    = pd.read_csv(os.path.join(PATH,'shops.csv'))\n",
    "sales    = pd.read_csv(os.path.join(PATH,'sales_train.csv.gz'))\n",
    "item_cat = pd.read_csv(os.path.join(PATH,'item_categories.csv'))\n",
    "item     = pd.read_csv(os.path.join(PATH,'items.csv'))"
   ]
  },
  {
   "cell_type": "code",
   "execution_count": null,
   "metadata": {},
   "outputs": [],
   "source": []
  }
 ],
 "metadata": {
  "kernelspec": {
   "display_name": "Python 3",
   "language": "python",
   "name": "python3"
  },
  "language_info": {
   "codemirror_mode": {
    "name": "ipython",
    "version": 3
   },
   "file_extension": ".py",
   "mimetype": "text/x-python",
   "name": "python",
   "nbconvert_exporter": "python",
   "pygments_lexer": "ipython3",
   "version": "3.6.9"
  }
 },
 "nbformat": 4,
 "nbformat_minor": 2
}
