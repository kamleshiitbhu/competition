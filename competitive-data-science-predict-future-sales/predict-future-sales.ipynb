{
 "cells": [
  {
   "cell_type": "code",
   "execution_count": 1,
   "metadata": {},
   "outputs": [],
   "source": [
    "import pandas as pd\n",
    "import os"
   ]
  },
  {
   "cell_type": "code",
   "execution_count": 2,
   "metadata": {},
   "outputs": [
    {
     "data": {
      "text/plain": [
       "['test.csv.gz',\n",
       " 'sample_submission.csv.gz',\n",
       " 'shops.csv',\n",
       " 'sales_train.csv.gz',\n",
       " 'item_categories.csv',\n",
       " 'items.csv']"
      ]
     },
     "execution_count": 2,
     "metadata": {},
     "output_type": "execute_result"
    }
   ],
   "source": [
    "PATH = './data'\n",
    "os.listdir(PATH)"
   ]
  },
  {
   "cell_type": "code",
   "execution_count": 3,
   "metadata": {},
   "outputs": [],
   "source": [
    "test     = pd.read_csv(os.path.join(PATH,'test.csv.gz'))\n",
    "shops    = pd.read_csv(os.path.join(PATH,'shops.csv'))\n",
    "sales    = pd.read_csv(os.path.join(PATH,'sales_train.csv.gz'))\n",
    "item_cat = pd.read_csv(os.path.join(PATH,'item_categories.csv'))\n",
    "item     = pd.read_csv(os.path.join(PATH,'items.csv'))"
   ]
  },
  {
   "cell_type": "code",
   "execution_count": 9,
   "metadata": {},
   "outputs": [
    {
     "data": {
      "text/html": [
       "<div>\n",
       "<style scoped>\n",
       "    .dataframe tbody tr th:only-of-type {\n",
       "        vertical-align: middle;\n",
       "    }\n",
       "\n",
       "    .dataframe tbody tr th {\n",
       "        vertical-align: top;\n",
       "    }\n",
       "\n",
       "    .dataframe thead th {\n",
       "        text-align: right;\n",
       "    }\n",
       "</style>\n",
       "<table border=\"1\" class=\"dataframe\">\n",
       "  <thead>\n",
       "    <tr style=\"text-align: right;\">\n",
       "      <th></th>\n",
       "      <th>shop_name</th>\n",
       "      <th>shop_id</th>\n",
       "    </tr>\n",
       "  </thead>\n",
       "  <tbody>\n",
       "    <tr>\n",
       "      <th>0</th>\n",
       "      <td>!Якутск Орджоникидзе, 56 фран</td>\n",
       "      <td>0</td>\n",
       "    </tr>\n",
       "    <tr>\n",
       "      <th>1</th>\n",
       "      <td>!Якутск ТЦ \"Центральный\" фран</td>\n",
       "      <td>1</td>\n",
       "    </tr>\n",
       "    <tr>\n",
       "      <th>2</th>\n",
       "      <td>Адыгея ТЦ \"Мега\"</td>\n",
       "      <td>2</td>\n",
       "    </tr>\n",
       "    <tr>\n",
       "      <th>3</th>\n",
       "      <td>Балашиха ТРК \"Октябрь-Киномир\"</td>\n",
       "      <td>3</td>\n",
       "    </tr>\n",
       "    <tr>\n",
       "      <th>4</th>\n",
       "      <td>Волжский ТЦ \"Волга Молл\"</td>\n",
       "      <td>4</td>\n",
       "    </tr>\n",
       "  </tbody>\n",
       "</table>\n",
       "</div>"
      ],
      "text/plain": [
       "                        shop_name  shop_id\n",
       "0   !Якутск Орджоникидзе, 56 фран        0\n",
       "1   !Якутск ТЦ \"Центральный\" фран        1\n",
       "2                Адыгея ТЦ \"Мега\"        2\n",
       "3  Балашиха ТРК \"Октябрь-Киномир\"        3\n",
       "4        Волжский ТЦ \"Волга Молл\"        4"
      ]
     },
     "execution_count": 9,
     "metadata": {},
     "output_type": "execute_result"
    }
   ],
   "source": [
    "shops.head()"
   ]
  },
  {
   "cell_type": "code",
   "execution_count": 16,
   "metadata": {},
   "outputs": [
    {
     "data": {
      "text/plain": [
       "(60, 2)"
      ]
     },
     "execution_count": 16,
     "metadata": {},
     "output_type": "execute_result"
    }
   ],
   "source": [
    "shops.shape"
   ]
  },
  {
   "cell_type": "code",
   "execution_count": 12,
   "metadata": {},
   "outputs": [
    {
     "name": "stdout",
     "output_type": "stream",
     "text": [
      "unique shop name =  60\n",
      "unique shop id =  60\n"
     ]
    }
   ],
   "source": [
    "print('unique shop name = ',shops['shop_name'].nunique())\n",
    "print('unique shop id = ',shops['shop_id'].nunique())"
   ]
  },
  {
   "cell_type": "code",
   "execution_count": 18,
   "metadata": {},
   "outputs": [
    {
     "data": {
      "text/plain": [
       "0                       !Якутск Орджоникидзе, 56 фран\n",
       "1                       !Якутск ТЦ \"Центральный\" фран\n",
       "2                                    Адыгея ТЦ \"Мега\"\n",
       "3                      Балашиха ТРК \"Октябрь-Киномир\"\n",
       "4                            Волжский ТЦ \"Волга Молл\"\n",
       "5                              Вологда ТРЦ \"Мармелад\"\n",
       "6                          Воронеж (Плехановская, 13)\n",
       "7                              Воронеж ТРЦ \"Максимир\"\n",
       "8                        Воронеж ТРЦ Сити-Парк \"Град\"\n",
       "9                                   Выездная Торговля\n",
       "10                         Жуковский ул. Чкалова 39м?\n",
       "11                         Жуковский ул. Чкалова 39м²\n",
       "12                                Интернет-магазин ЧС\n",
       "13                                Казань ТЦ \"Бехетле\"\n",
       "14                            Казань ТЦ \"ПаркХаус\" II\n",
       "15                               Калуга ТРЦ \"XXI век\"\n",
       "16                                   Коломна ТЦ \"Рио\"\n",
       "17                      Красноярск ТЦ \"Взлетка Плаза\"\n",
       "18                               Красноярск ТЦ \"Июнь\"\n",
       "19                              Курск ТЦ \"Пушкинский\"\n",
       "20                                Москва \"Распродажа\"\n",
       "21                             Москва МТРЦ \"Афи Молл\"\n",
       "22                                 Москва Магазин С21\n",
       "23                   Москва ТК \"Буденовский\" (пав.А2)\n",
       "24                   Москва ТК \"Буденовский\" (пав.К7)\n",
       "25                                Москва ТРК \"Атриум\"\n",
       "26                        Москва ТЦ \"Ареал\" (Беляево)\n",
       "27                     Москва ТЦ \"МЕГА Белая Дача II\"\n",
       "28                    Москва ТЦ \"МЕГА Теплый Стан\" II\n",
       "29                 Москва ТЦ \"Новый век\" (Новокосино)\n",
       "30                             Москва ТЦ \"Перловский\"\n",
       "31                            Москва ТЦ \"Семеновский\"\n",
       "32                         Москва ТЦ \"Серебряный Дом\"\n",
       "33                                  Мытищи ТРК \"XL-3\"\n",
       "34                               Н.Новгород ТРЦ \"РИО\"\n",
       "35                        Н.Новгород ТРЦ \"Фантастика\"\n",
       "36              Новосибирск ТРЦ \"Галерея Новосибирск\"\n",
       "37                              Новосибирск ТЦ \"Мега\"\n",
       "38                                     Омск ТЦ \"Мега\"\n",
       "39              РостовНаДону ТРК \"Мегацентр Горизонт\"\n",
       "40    РостовНаДону ТРК \"Мегацентр Горизонт\" Островной\n",
       "41                             РостовНаДону ТЦ \"Мега\"\n",
       "42                             СПб ТК \"Невский Центр\"\n",
       "43                                    СПб ТК \"Сенная\"\n",
       "44                                Самара ТЦ \"Мелодия\"\n",
       "45                               Самара ТЦ \"ПаркХаус\"\n",
       "46                              Сергиев Посад ТЦ \"7Я\"\n",
       "47                             Сургут ТРЦ \"Сити Молл\"\n",
       "48                       Томск ТРЦ \"Изумрудный Город\"\n",
       "49                              Тюмень ТРЦ \"Кристалл\"\n",
       "50                                 Тюмень ТЦ \"Гудвин\"\n",
       "51                          Тюмень ТЦ \"Зеленый Берег\"\n",
       "52                               Уфа ТК \"Центральный\"\n",
       "53                                   Уфа ТЦ \"Семья\" 2\n",
       "54                                    Химки ТЦ \"Мега\"\n",
       "55                           Цифровой склад 1С-Онлайн\n",
       "56                               Чехов ТРЦ \"Карнавал\"\n",
       "57                            Якутск Орджоникидзе, 56\n",
       "58                            Якутск ТЦ \"Центральный\"\n",
       "59                             Ярославль ТЦ \"Альтаир\"\n",
       "Name: shop_name, dtype: object"
      ]
     },
     "execution_count": 18,
     "metadata": {},
     "output_type": "execute_result"
    }
   ],
   "source": [
    "shops['shop_name']"
   ]
  },
  {
   "cell_type": "code",
   "execution_count": null,
   "metadata": {},
   "outputs": [],
   "source": []
  }
 ],
 "metadata": {
  "kernelspec": {
   "display_name": "Python 3",
   "language": "python",
   "name": "python3"
  },
  "language_info": {
   "codemirror_mode": {
    "name": "ipython",
    "version": 3
   },
   "file_extension": ".py",
   "mimetype": "text/x-python",
   "name": "python",
   "nbconvert_exporter": "python",
   "pygments_lexer": "ipython3",
   "version": "3.6.9"
  }
 },
 "nbformat": 4,
 "nbformat_minor": 2
}
