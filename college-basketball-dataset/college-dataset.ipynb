{
 "cells": [
  {
   "cell_type": "code",
   "execution_count": 1,
   "metadata": {},
   "outputs": [],
   "source": [
    "import os\n",
    "import numpy as np\n",
    "import pandas as pd\n",
    "import matplotlib.pyplot as plt"
   ]
  },
  {
   "cell_type": "code",
   "execution_count": 2,
   "metadata": {},
   "outputs": [
    {
     "data": {
      "text/plain": [
       "['cbb19.csv', 'cbb18.csv', 'cbb15.csv', 'cbb16.csv', 'cbb17.csv', 'cbb.csv']"
      ]
     },
     "execution_count": 2,
     "metadata": {},
     "output_type": "execute_result"
    }
   ],
   "source": [
    "PATH = \"./data\"\n",
    "os.listdir(PATH)"
   ]
  },
  {
   "cell_type": "code",
   "execution_count": 3,
   "metadata": {},
   "outputs": [],
   "source": [
    "cbb_df = pd.read_csv(os.path.join(PATH,'cbb.csv'))\n",
    "cbb15_df = pd.read_csv(os.path.join(PATH,'cbb15.csv'))\n",
    "cbb16_df = pd.read_csv(os.path.join(PATH,'cbb16.csv'))\n",
    "cbb17_df = pd.read_csv(os.path.join(PATH,'cbb17.csv'))\n",
    "cbb18_df = pd.read_csv(os.path.join(PATH,'cbb18.csv'))\n",
    "cbb19_df = pd.read_csv(os.path.join(PATH,'cbb19.csv'))"
   ]
  },
  {
   "cell_type": "code",
   "execution_count": 4,
   "metadata": {},
   "outputs": [
    {
     "data": {
      "text/html": [
       "<div>\n",
       "<style scoped>\n",
       "    .dataframe tbody tr th:only-of-type {\n",
       "        vertical-align: middle;\n",
       "    }\n",
       "\n",
       "    .dataframe tbody tr th {\n",
       "        vertical-align: top;\n",
       "    }\n",
       "\n",
       "    .dataframe thead th {\n",
       "        text-align: right;\n",
       "    }\n",
       "</style>\n",
       "<table border=\"1\" class=\"dataframe\">\n",
       "  <thead>\n",
       "    <tr style=\"text-align: right;\">\n",
       "      <th></th>\n",
       "      <th>TEAM</th>\n",
       "      <th>CONF</th>\n",
       "      <th>G</th>\n",
       "      <th>W</th>\n",
       "      <th>ADJOE</th>\n",
       "      <th>ADJDE</th>\n",
       "      <th>BARTHAG</th>\n",
       "      <th>EFG_O</th>\n",
       "      <th>EFG_D</th>\n",
       "      <th>TOR</th>\n",
       "      <th>...</th>\n",
       "      <th>FTRD</th>\n",
       "      <th>2P_O</th>\n",
       "      <th>2P_D</th>\n",
       "      <th>3P_O</th>\n",
       "      <th>3P_D</th>\n",
       "      <th>ADJ_T</th>\n",
       "      <th>WAB</th>\n",
       "      <th>POSTSEASON</th>\n",
       "      <th>SEED</th>\n",
       "      <th>YEAR</th>\n",
       "    </tr>\n",
       "  </thead>\n",
       "  <tbody>\n",
       "    <tr>\n",
       "      <th>0</th>\n",
       "      <td>North Carolina</td>\n",
       "      <td>ACC</td>\n",
       "      <td>40</td>\n",
       "      <td>33</td>\n",
       "      <td>123.3</td>\n",
       "      <td>94.9</td>\n",
       "      <td>0.9531</td>\n",
       "      <td>52.6</td>\n",
       "      <td>48.1</td>\n",
       "      <td>15.4</td>\n",
       "      <td>...</td>\n",
       "      <td>30.4</td>\n",
       "      <td>53.9</td>\n",
       "      <td>44.6</td>\n",
       "      <td>32.7</td>\n",
       "      <td>36.2</td>\n",
       "      <td>71.7</td>\n",
       "      <td>8.6</td>\n",
       "      <td>2ND</td>\n",
       "      <td>1.0</td>\n",
       "      <td>2016</td>\n",
       "    </tr>\n",
       "    <tr>\n",
       "      <th>1</th>\n",
       "      <td>Wisconsin</td>\n",
       "      <td>B10</td>\n",
       "      <td>40</td>\n",
       "      <td>36</td>\n",
       "      <td>129.1</td>\n",
       "      <td>93.6</td>\n",
       "      <td>0.9758</td>\n",
       "      <td>54.8</td>\n",
       "      <td>47.7</td>\n",
       "      <td>12.4</td>\n",
       "      <td>...</td>\n",
       "      <td>22.4</td>\n",
       "      <td>54.8</td>\n",
       "      <td>44.7</td>\n",
       "      <td>36.5</td>\n",
       "      <td>37.5</td>\n",
       "      <td>59.3</td>\n",
       "      <td>11.3</td>\n",
       "      <td>2ND</td>\n",
       "      <td>1.0</td>\n",
       "      <td>2015</td>\n",
       "    </tr>\n",
       "    <tr>\n",
       "      <th>2</th>\n",
       "      <td>Michigan</td>\n",
       "      <td>B10</td>\n",
       "      <td>40</td>\n",
       "      <td>33</td>\n",
       "      <td>114.4</td>\n",
       "      <td>90.4</td>\n",
       "      <td>0.9375</td>\n",
       "      <td>53.9</td>\n",
       "      <td>47.7</td>\n",
       "      <td>14.0</td>\n",
       "      <td>...</td>\n",
       "      <td>30.0</td>\n",
       "      <td>54.7</td>\n",
       "      <td>46.8</td>\n",
       "      <td>35.2</td>\n",
       "      <td>33.2</td>\n",
       "      <td>65.9</td>\n",
       "      <td>6.9</td>\n",
       "      <td>2ND</td>\n",
       "      <td>3.0</td>\n",
       "      <td>2018</td>\n",
       "    </tr>\n",
       "    <tr>\n",
       "      <th>3</th>\n",
       "      <td>Texas Tech</td>\n",
       "      <td>B12</td>\n",
       "      <td>38</td>\n",
       "      <td>31</td>\n",
       "      <td>115.2</td>\n",
       "      <td>85.2</td>\n",
       "      <td>0.9696</td>\n",
       "      <td>53.5</td>\n",
       "      <td>43.0</td>\n",
       "      <td>17.7</td>\n",
       "      <td>...</td>\n",
       "      <td>36.6</td>\n",
       "      <td>52.8</td>\n",
       "      <td>41.9</td>\n",
       "      <td>36.5</td>\n",
       "      <td>29.7</td>\n",
       "      <td>67.5</td>\n",
       "      <td>7.0</td>\n",
       "      <td>2ND</td>\n",
       "      <td>3.0</td>\n",
       "      <td>2019</td>\n",
       "    </tr>\n",
       "    <tr>\n",
       "      <th>4</th>\n",
       "      <td>Gonzaga</td>\n",
       "      <td>WCC</td>\n",
       "      <td>39</td>\n",
       "      <td>37</td>\n",
       "      <td>117.8</td>\n",
       "      <td>86.3</td>\n",
       "      <td>0.9728</td>\n",
       "      <td>56.6</td>\n",
       "      <td>41.1</td>\n",
       "      <td>16.2</td>\n",
       "      <td>...</td>\n",
       "      <td>26.9</td>\n",
       "      <td>56.3</td>\n",
       "      <td>40.0</td>\n",
       "      <td>38.2</td>\n",
       "      <td>29.0</td>\n",
       "      <td>71.5</td>\n",
       "      <td>7.7</td>\n",
       "      <td>2ND</td>\n",
       "      <td>1.0</td>\n",
       "      <td>2017</td>\n",
       "    </tr>\n",
       "  </tbody>\n",
       "</table>\n",
       "<p>5 rows × 24 columns</p>\n",
       "</div>"
      ],
      "text/plain": [
       "             TEAM CONF   G   W  ADJOE  ADJDE  BARTHAG  EFG_O  EFG_D   TOR  \\\n",
       "0  North Carolina  ACC  40  33  123.3   94.9   0.9531   52.6   48.1  15.4   \n",
       "1       Wisconsin  B10  40  36  129.1   93.6   0.9758   54.8   47.7  12.4   \n",
       "2        Michigan  B10  40  33  114.4   90.4   0.9375   53.9   47.7  14.0   \n",
       "3      Texas Tech  B12  38  31  115.2   85.2   0.9696   53.5   43.0  17.7   \n",
       "4         Gonzaga  WCC  39  37  117.8   86.3   0.9728   56.6   41.1  16.2   \n",
       "\n",
       "   ...  FTRD  2P_O  2P_D  3P_O  3P_D  ADJ_T   WAB  POSTSEASON  SEED  YEAR  \n",
       "0  ...  30.4  53.9  44.6  32.7  36.2   71.7   8.6         2ND   1.0  2016  \n",
       "1  ...  22.4  54.8  44.7  36.5  37.5   59.3  11.3         2ND   1.0  2015  \n",
       "2  ...  30.0  54.7  46.8  35.2  33.2   65.9   6.9         2ND   3.0  2018  \n",
       "3  ...  36.6  52.8  41.9  36.5  29.7   67.5   7.0         2ND   3.0  2019  \n",
       "4  ...  26.9  56.3  40.0  38.2  29.0   71.5   7.7         2ND   1.0  2017  \n",
       "\n",
       "[5 rows x 24 columns]"
      ]
     },
     "execution_count": 4,
     "metadata": {},
     "output_type": "execute_result"
    }
   ],
   "source": [
    "cbb_df.head()"
   ]
  },
  {
   "cell_type": "code",
   "execution_count": 5,
   "metadata": {},
   "outputs": [
    {
     "data": {
      "text/plain": [
       "(1757, 24)"
      ]
     },
     "execution_count": 5,
     "metadata": {},
     "output_type": "execute_result"
    }
   ],
   "source": [
    "cbb_df.shape"
   ]
  },
  {
   "cell_type": "code",
   "execution_count": 6,
   "metadata": {},
   "outputs": [
    {
     "data": {
      "text/plain": [
       "TEAM           355\n",
       "CONF            33\n",
       "G               17\n",
       "W               39\n",
       "ADJOE          341\n",
       "ADJDE          297\n",
       "BARTHAG       1586\n",
       "EFG_O          174\n",
       "EFG_D          155\n",
       "TOR            115\n",
       "TORD           120\n",
       "ORB            213\n",
       "DRB            165\n",
       "FTR            239\n",
       "FTRD           278\n",
       "2P_O           187\n",
       "2P_D           175\n",
       "3P_O           148\n",
       "3P_D           131\n",
       "ADJ_T          179\n",
       "WAB            316\n",
       "POSTSEASON       8\n",
       "SEED            16\n",
       "YEAR             5\n",
       "dtype: int64"
      ]
     },
     "execution_count": 6,
     "metadata": {},
     "output_type": "execute_result"
    }
   ],
   "source": [
    "cbb_df.nunique()"
   ]
  },
  {
   "cell_type": "code",
   "execution_count": 7,
   "metadata": {},
   "outputs": [
    {
     "data": {
      "text/html": [
       "<div>\n",
       "<style scoped>\n",
       "    .dataframe tbody tr th:only-of-type {\n",
       "        vertical-align: middle;\n",
       "    }\n",
       "\n",
       "    .dataframe tbody tr th {\n",
       "        vertical-align: top;\n",
       "    }\n",
       "\n",
       "    .dataframe thead th {\n",
       "        text-align: right;\n",
       "    }\n",
       "</style>\n",
       "<table border=\"1\" class=\"dataframe\">\n",
       "  <thead>\n",
       "    <tr style=\"text-align: right;\">\n",
       "      <th></th>\n",
       "      <th>G</th>\n",
       "      <th>W</th>\n",
       "      <th>ADJOE</th>\n",
       "      <th>ADJDE</th>\n",
       "      <th>BARTHAG</th>\n",
       "      <th>EFG_O</th>\n",
       "      <th>EFG_D</th>\n",
       "      <th>TOR</th>\n",
       "      <th>TORD</th>\n",
       "      <th>ORB</th>\n",
       "      <th>...</th>\n",
       "      <th>FTR</th>\n",
       "      <th>FTRD</th>\n",
       "      <th>2P_O</th>\n",
       "      <th>2P_D</th>\n",
       "      <th>3P_O</th>\n",
       "      <th>3P_D</th>\n",
       "      <th>ADJ_T</th>\n",
       "      <th>WAB</th>\n",
       "      <th>SEED</th>\n",
       "      <th>YEAR</th>\n",
       "    </tr>\n",
       "  </thead>\n",
       "  <tbody>\n",
       "    <tr>\n",
       "      <th>count</th>\n",
       "      <td>1757.000000</td>\n",
       "      <td>1757.000000</td>\n",
       "      <td>1757.000000</td>\n",
       "      <td>1757.000000</td>\n",
       "      <td>1757.000000</td>\n",
       "      <td>1757.000000</td>\n",
       "      <td>1757.000000</td>\n",
       "      <td>1757.000000</td>\n",
       "      <td>1757.000000</td>\n",
       "      <td>1757.000000</td>\n",
       "      <td>...</td>\n",
       "      <td>1757.000000</td>\n",
       "      <td>1757.000000</td>\n",
       "      <td>1757.000000</td>\n",
       "      <td>1757.000000</td>\n",
       "      <td>1757.000000</td>\n",
       "      <td>1757.000000</td>\n",
       "      <td>1757.000000</td>\n",
       "      <td>1757.000000</td>\n",
       "      <td>340.000000</td>\n",
       "      <td>1757.000000</td>\n",
       "    </tr>\n",
       "    <tr>\n",
       "      <th>mean</th>\n",
       "      <td>31.523051</td>\n",
       "      <td>16.513375</td>\n",
       "      <td>103.542402</td>\n",
       "      <td>103.542459</td>\n",
       "      <td>0.493398</td>\n",
       "      <td>50.120489</td>\n",
       "      <td>50.312806</td>\n",
       "      <td>18.591804</td>\n",
       "      <td>18.521286</td>\n",
       "      <td>29.277120</td>\n",
       "      <td>...</td>\n",
       "      <td>35.097894</td>\n",
       "      <td>35.373307</td>\n",
       "      <td>49.135970</td>\n",
       "      <td>49.298065</td>\n",
       "      <td>34.563517</td>\n",
       "      <td>34.744792</td>\n",
       "      <td>68.422254</td>\n",
       "      <td>-7.837109</td>\n",
       "      <td>8.791176</td>\n",
       "      <td>2017.002277</td>\n",
       "    </tr>\n",
       "    <tr>\n",
       "      <th>std</th>\n",
       "      <td>2.602819</td>\n",
       "      <td>6.545571</td>\n",
       "      <td>7.304975</td>\n",
       "      <td>6.472676</td>\n",
       "      <td>0.255291</td>\n",
       "      <td>3.130430</td>\n",
       "      <td>2.859604</td>\n",
       "      <td>1.991637</td>\n",
       "      <td>2.108968</td>\n",
       "      <td>4.101782</td>\n",
       "      <td>...</td>\n",
       "      <td>4.884599</td>\n",
       "      <td>5.900935</td>\n",
       "      <td>3.422136</td>\n",
       "      <td>3.288265</td>\n",
       "      <td>2.742323</td>\n",
       "      <td>2.369727</td>\n",
       "      <td>3.258920</td>\n",
       "      <td>6.988694</td>\n",
       "      <td>4.674090</td>\n",
       "      <td>1.415419</td>\n",
       "    </tr>\n",
       "    <tr>\n",
       "      <th>min</th>\n",
       "      <td>24.000000</td>\n",
       "      <td>0.000000</td>\n",
       "      <td>76.700000</td>\n",
       "      <td>84.000000</td>\n",
       "      <td>0.007700</td>\n",
       "      <td>39.400000</td>\n",
       "      <td>39.600000</td>\n",
       "      <td>12.400000</td>\n",
       "      <td>10.200000</td>\n",
       "      <td>15.000000</td>\n",
       "      <td>...</td>\n",
       "      <td>21.600000</td>\n",
       "      <td>21.800000</td>\n",
       "      <td>37.700000</td>\n",
       "      <td>37.700000</td>\n",
       "      <td>25.200000</td>\n",
       "      <td>27.100000</td>\n",
       "      <td>57.200000</td>\n",
       "      <td>-25.200000</td>\n",
       "      <td>1.000000</td>\n",
       "      <td>2015.000000</td>\n",
       "    </tr>\n",
       "    <tr>\n",
       "      <th>25%</th>\n",
       "      <td>30.000000</td>\n",
       "      <td>12.000000</td>\n",
       "      <td>98.600000</td>\n",
       "      <td>98.900000</td>\n",
       "      <td>0.283700</td>\n",
       "      <td>48.100000</td>\n",
       "      <td>48.400000</td>\n",
       "      <td>17.200000</td>\n",
       "      <td>17.100000</td>\n",
       "      <td>26.600000</td>\n",
       "      <td>...</td>\n",
       "      <td>31.700000</td>\n",
       "      <td>31.200000</td>\n",
       "      <td>46.900000</td>\n",
       "      <td>47.100000</td>\n",
       "      <td>32.600000</td>\n",
       "      <td>33.100000</td>\n",
       "      <td>66.400000</td>\n",
       "      <td>-13.000000</td>\n",
       "      <td>5.000000</td>\n",
       "      <td>2016.000000</td>\n",
       "    </tr>\n",
       "    <tr>\n",
       "      <th>50%</th>\n",
       "      <td>31.000000</td>\n",
       "      <td>16.000000</td>\n",
       "      <td>103.100000</td>\n",
       "      <td>103.800000</td>\n",
       "      <td>0.474000</td>\n",
       "      <td>50.000000</td>\n",
       "      <td>50.300000</td>\n",
       "      <td>18.500000</td>\n",
       "      <td>18.500000</td>\n",
       "      <td>29.400000</td>\n",
       "      <td>...</td>\n",
       "      <td>34.900000</td>\n",
       "      <td>34.900000</td>\n",
       "      <td>49.000000</td>\n",
       "      <td>49.300000</td>\n",
       "      <td>34.600000</td>\n",
       "      <td>34.700000</td>\n",
       "      <td>68.500000</td>\n",
       "      <td>-8.400000</td>\n",
       "      <td>9.000000</td>\n",
       "      <td>2017.000000</td>\n",
       "    </tr>\n",
       "    <tr>\n",
       "      <th>75%</th>\n",
       "      <td>33.000000</td>\n",
       "      <td>21.000000</td>\n",
       "      <td>108.100000</td>\n",
       "      <td>108.000000</td>\n",
       "      <td>0.710600</td>\n",
       "      <td>52.100000</td>\n",
       "      <td>52.300000</td>\n",
       "      <td>19.800000</td>\n",
       "      <td>19.900000</td>\n",
       "      <td>31.900000</td>\n",
       "      <td>...</td>\n",
       "      <td>38.300000</td>\n",
       "      <td>39.200000</td>\n",
       "      <td>51.400000</td>\n",
       "      <td>51.500000</td>\n",
       "      <td>36.400000</td>\n",
       "      <td>36.300000</td>\n",
       "      <td>70.400000</td>\n",
       "      <td>-3.100000</td>\n",
       "      <td>13.000000</td>\n",
       "      <td>2018.000000</td>\n",
       "    </tr>\n",
       "    <tr>\n",
       "      <th>max</th>\n",
       "      <td>40.000000</td>\n",
       "      <td>38.000000</td>\n",
       "      <td>129.100000</td>\n",
       "      <td>124.000000</td>\n",
       "      <td>0.984200</td>\n",
       "      <td>59.800000</td>\n",
       "      <td>59.500000</td>\n",
       "      <td>26.100000</td>\n",
       "      <td>28.000000</td>\n",
       "      <td>42.100000</td>\n",
       "      <td>...</td>\n",
       "      <td>51.000000</td>\n",
       "      <td>58.500000</td>\n",
       "      <td>62.600000</td>\n",
       "      <td>61.200000</td>\n",
       "      <td>44.100000</td>\n",
       "      <td>43.100000</td>\n",
       "      <td>83.400000</td>\n",
       "      <td>13.100000</td>\n",
       "      <td>16.000000</td>\n",
       "      <td>2019.000000</td>\n",
       "    </tr>\n",
       "  </tbody>\n",
       "</table>\n",
       "<p>8 rows × 21 columns</p>\n",
       "</div>"
      ],
      "text/plain": [
       "                 G            W        ADJOE        ADJDE      BARTHAG  \\\n",
       "count  1757.000000  1757.000000  1757.000000  1757.000000  1757.000000   \n",
       "mean     31.523051    16.513375   103.542402   103.542459     0.493398   \n",
       "std       2.602819     6.545571     7.304975     6.472676     0.255291   \n",
       "min      24.000000     0.000000    76.700000    84.000000     0.007700   \n",
       "25%      30.000000    12.000000    98.600000    98.900000     0.283700   \n",
       "50%      31.000000    16.000000   103.100000   103.800000     0.474000   \n",
       "75%      33.000000    21.000000   108.100000   108.000000     0.710600   \n",
       "max      40.000000    38.000000   129.100000   124.000000     0.984200   \n",
       "\n",
       "             EFG_O        EFG_D          TOR         TORD          ORB  ...  \\\n",
       "count  1757.000000  1757.000000  1757.000000  1757.000000  1757.000000  ...   \n",
       "mean     50.120489    50.312806    18.591804    18.521286    29.277120  ...   \n",
       "std       3.130430     2.859604     1.991637     2.108968     4.101782  ...   \n",
       "min      39.400000    39.600000    12.400000    10.200000    15.000000  ...   \n",
       "25%      48.100000    48.400000    17.200000    17.100000    26.600000  ...   \n",
       "50%      50.000000    50.300000    18.500000    18.500000    29.400000  ...   \n",
       "75%      52.100000    52.300000    19.800000    19.900000    31.900000  ...   \n",
       "max      59.800000    59.500000    26.100000    28.000000    42.100000  ...   \n",
       "\n",
       "               FTR         FTRD         2P_O         2P_D         3P_O  \\\n",
       "count  1757.000000  1757.000000  1757.000000  1757.000000  1757.000000   \n",
       "mean     35.097894    35.373307    49.135970    49.298065    34.563517   \n",
       "std       4.884599     5.900935     3.422136     3.288265     2.742323   \n",
       "min      21.600000    21.800000    37.700000    37.700000    25.200000   \n",
       "25%      31.700000    31.200000    46.900000    47.100000    32.600000   \n",
       "50%      34.900000    34.900000    49.000000    49.300000    34.600000   \n",
       "75%      38.300000    39.200000    51.400000    51.500000    36.400000   \n",
       "max      51.000000    58.500000    62.600000    61.200000    44.100000   \n",
       "\n",
       "              3P_D        ADJ_T          WAB        SEED         YEAR  \n",
       "count  1757.000000  1757.000000  1757.000000  340.000000  1757.000000  \n",
       "mean     34.744792    68.422254    -7.837109    8.791176  2017.002277  \n",
       "std       2.369727     3.258920     6.988694    4.674090     1.415419  \n",
       "min      27.100000    57.200000   -25.200000    1.000000  2015.000000  \n",
       "25%      33.100000    66.400000   -13.000000    5.000000  2016.000000  \n",
       "50%      34.700000    68.500000    -8.400000    9.000000  2017.000000  \n",
       "75%      36.300000    70.400000    -3.100000   13.000000  2018.000000  \n",
       "max      43.100000    83.400000    13.100000   16.000000  2019.000000  \n",
       "\n",
       "[8 rows x 21 columns]"
      ]
     },
     "execution_count": 7,
     "metadata": {},
     "output_type": "execute_result"
    }
   ],
   "source": [
    "cbb_df.describe()"
   ]
  },
  {
   "cell_type": "markdown",
   "metadata": {},
   "source": [
    "## Top 10 winning team"
   ]
  },
  {
   "cell_type": "code",
   "execution_count": 8,
   "metadata": {},
   "outputs": [
    {
     "data": {
      "text/plain": [
       "<matplotlib.axes._subplots.AxesSubplot at 0x11844de48>"
      ]
     },
     "execution_count": 8,
     "metadata": {},
     "output_type": "execute_result"
    },
    {
     "data": {
      "image/png": "[encoded data removed]",
      "text/plain": [
       "<Figure size 432x288 with 1 Axes>"
      ]
     },
     "metadata": {
      "needs_background": "light"
     },
     "output_type": "display_data"
    }
   ],
   "source": [
    "cbb_df.sort_values(by='W',ascending=False).head(10).plot.bar(x='TEAM',y='W',alpha=0.36,color='red')"
   ]
  },
  {
   "cell_type": "markdown",
   "metadata": {},
   "source": [
    "## TOP 10 AOE team (Adjusted Offensive Efficiency)"
   ]
  },
  {
   "cell_type": "code",
   "execution_count": 9,
   "metadata": {},
   "outputs": [
    {
     "data": {
      "text/plain": [
       "<matplotlib.axes._subplots.AxesSubplot at 0x1046cfcc0>"
      ]
     },
     "execution_count": 9,
     "metadata": {},
     "output_type": "execute_result"
    },
    {
     "data": {
      "image/png": "[encoded data removed]",
      "text/plain": [
       "<Figure size 432x288 with 1 Axes>"
      ]
     },
     "metadata": {
      "needs_background": "light"
     },
     "output_type": "display_data"
    }
   ],
   "source": [
    "cbb_df.sort_values(by='ADJOE',ascending=False).head(10).plot.bar(x='TEAM',y='ADJOE',alpha=0.36,color='blue')"
   ]
  },
  {
   "cell_type": "markdown",
   "metadata": {},
   "source": [
    "# TOP 10 ADE team (Adjusted Defensive Efficiency)"
   ]
  },
  {
   "cell_type": "code",
   "execution_count": 14,
   "metadata": {},
   "outputs": [
    {
     "data": {
      "text/plain": [
       "<matplotlib.axes._subplots.AxesSubplot at 0x11b8475f8>"
      ]
     },
     "execution_count": 14,
     "metadata": {},
     "output_type": "execute_result"
    },
    {
     "data": {
      "image/png": "[encoded data removed]",
      "text/plain": [
       "<Figure size 432x288 with 1 Axes>"
      ]
     },
     "metadata": {
      "needs_background": "light"
     },
     "output_type": "display_data"
    }
   ],
   "source": [
    "cbb_df.sort_values(by='ADJDE',ascending=False).head(10).plot.bar(x='TEAM',y='ADJDE',alpha=0.36,color='green')"
   ]
  },
  {
   "cell_type": "code",
   "execution_count": 15,
   "metadata": {},
   "outputs": [
    {
     "data": {
      "text/plain": [
       "<matplotlib.axes._subplots.AxesSubplot at 0x11b954f98>"
      ]
     },
     "execution_count": 15,
     "metadata": {},
     "output_type": "execute_result"
    },
    {
     "data": {
      "image/png": "[encoded data removed]",
      "text/plain": [
       "<Figure size 432x288 with 1 Axes>"
      ]
     },
     "metadata": {
      "needs_background": "light"
     },
     "output_type": "display_data"
    }
   ],
   "source": [
    "cbb_df.sort_values(by='ADJDE',ascending=False).head(10).plot.bar(x='TEAM',y=['ADJDE','ADJOE','W'],alpha=0.36)"
   ]
  },
  {
   "cell_type": "code",
   "execution_count": null,
   "metadata": {},
   "outputs": [],
   "source": []
  }
 ],
 "metadata": {
  "kernelspec": {
   "display_name": "Python 3",
   "language": "python",
   "name": "python3"
  },
  "language_info": {
   "codemirror_mode": {
    "name": "ipython",
    "version": 3
   },
   "file_extension": ".py",
   "mimetype": "text/x-python",
   "name": "python",
   "nbconvert_exporter": "python",
   "pygments_lexer": "ipython3",
   "version": "3.6.9"
  }
 },
 "nbformat": 4,
 "nbformat_minor": 2
}
